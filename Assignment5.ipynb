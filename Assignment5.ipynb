{
 "cells": [
  {
   "cell_type": "markdown",
   "id": "4eaf7791",
   "metadata": {},
   "source": [
    "1.Write a Python program to print numbers from 1 to 10 using a for loop."
   ]
  },
  {
   "cell_type": "code",
   "execution_count": 1,
   "id": "4d08aaa4",
   "metadata": {},
   "outputs": [
    {
     "name": "stdout",
     "output_type": "stream",
     "text": [
      "1 2 3 4 5 6 7 8 9 10 "
     ]
    }
   ],
   "source": [
    "for i in range(1,11):\n",
    "    print(i,end=\" \")"
   ]
  },
  {
   "cell_type": "markdown",
   "id": "7c710088",
   "metadata": {},
   "source": [
    "2.Explain the difference between a for loop and a while loop in Python.\n"
   ]
  },
  {
   "cell_type": "raw",
   "id": "f78fa22a",
   "metadata": {},
   "source": [
    "-) for loops are used when you know the number of iterations in advance, and while loops are used when you need to repeat a task until a specific condition is met or when the number of iterations is determined dynamically.\n",
    "-)For loops have more predictable control flow since you know the number of iterations in advance.\n",
    "They are less prone to causing infinite loops, as long as the iterable is finite.\n",
    "-)While loops require careful handling of the condition to avoid infinite loops.\n",
    "If the condition never becomes False, the loop will run indefinitely, which can lead to program crashes."
   ]
  },
  {
   "cell_type": "markdown",
   "id": "7754ded2",
   "metadata": {},
   "source": [
    "3)Write a Python program to calculate the sum of all numbers from 1 to 100 using a for loop.\n"
   ]
  },
  {
   "cell_type": "code",
   "execution_count": 7,
   "id": "c7ef3267",
   "metadata": {},
   "outputs": [
    {
     "name": "stdout",
     "output_type": "stream",
     "text": [
      "1\n",
      "3\n",
      "6\n",
      "10\n",
      "15\n",
      "21\n",
      "28\n",
      "36\n",
      "45\n",
      "55\n",
      "66\n",
      "78\n",
      "91\n",
      "105\n",
      "120\n",
      "136\n",
      "153\n",
      "171\n",
      "190\n",
      "210\n",
      "231\n",
      "253\n",
      "276\n",
      "300\n",
      "325\n",
      "351\n",
      "378\n",
      "406\n",
      "435\n",
      "465\n",
      "496\n",
      "528\n",
      "561\n",
      "595\n",
      "630\n",
      "666\n",
      "703\n",
      "741\n",
      "780\n",
      "820\n",
      "861\n",
      "903\n",
      "946\n",
      "990\n",
      "1035\n",
      "1081\n",
      "1128\n",
      "1176\n",
      "1225\n",
      "1275\n",
      "1326\n",
      "1378\n",
      "1431\n",
      "1485\n",
      "1540\n",
      "1596\n",
      "1653\n",
      "1711\n",
      "1770\n",
      "1830\n",
      "1891\n",
      "1953\n",
      "2016\n",
      "2080\n",
      "2145\n",
      "2211\n",
      "2278\n",
      "2346\n",
      "2415\n",
      "2485\n",
      "2556\n",
      "2628\n",
      "2701\n",
      "2775\n",
      "2850\n",
      "2926\n",
      "3003\n",
      "3081\n",
      "3160\n",
      "3240\n",
      "3321\n",
      "3403\n",
      "3486\n",
      "3570\n",
      "3655\n",
      "3741\n",
      "3828\n",
      "3916\n",
      "4005\n",
      "4095\n",
      "4186\n",
      "4278\n",
      "4371\n",
      "4465\n",
      "4560\n",
      "4656\n",
      "4753\n",
      "4851\n",
      "4950\n",
      "5050\n"
     ]
    }
   ],
   "source": [
    "n=0\n",
    "for i in range(1,101):\n",
    "    n=n+i\n",
    "    print((n))"
   ]
  },
  {
   "cell_type": "code",
   "execution_count": 10,
   "id": "9a8d2f0b",
   "metadata": {},
   "outputs": [
    {
     "name": "stdout",
     "output_type": "stream",
     "text": [
      "Enter the Number of terms you want100\n",
      "5050.0\n"
     ]
    }
   ],
   "source": [
    "n=int(input(\"Enter the Number of terms you want\"))\n",
    "d=n*(n+1)/2\n",
    "print(d)"
   ]
  },
  {
   "cell_type": "markdown",
   "id": "2d9ed055",
   "metadata": {},
   "source": [
    "4)How do you iterate through a list using a for loop in Python?\n"
   ]
  },
  {
   "cell_type": "code",
   "execution_count": 12,
   "id": "556f513d",
   "metadata": {},
   "outputs": [
    {
     "name": "stdout",
     "output_type": "stream",
     "text": [
      "1\n",
      "2\n",
      "3\n",
      "4\n",
      "5\n"
     ]
    }
   ],
   "source": [
    "numbers = [1, 2, 3, 4, 5]\n",
    "\n",
    "for num in numbers:\n",
    "    print(num)"
   ]
  },
  {
   "cell_type": "markdown",
   "id": "23ad4656",
   "metadata": {},
   "source": [
    "here numbers is the variable that stores the list and num is used for accesing each element and by for loop we can itterate each item once"
   ]
  },
  {
   "cell_type": "markdown",
   "id": "8bdb9829",
   "metadata": {},
   "source": [
    "5)Write a Python program to find the product of all elements in a list using a for loop."
   ]
  },
  {
   "cell_type": "code",
   "execution_count": 18,
   "id": "9a681001",
   "metadata": {},
   "outputs": [
    {
     "name": "stdout",
     "output_type": "stream",
     "text": [
      "24\n"
     ]
    }
   ],
   "source": [
    "import math\n",
    "a=[1,2,3,4]\n",
    "c=math.prod(a)\n",
    "print(c)"
   ]
  },
  {
   "cell_type": "code",
   "execution_count": 19,
   "id": "f077795c",
   "metadata": {},
   "outputs": [
    {
     "name": "stdout",
     "output_type": "stream",
     "text": [
      "120\n"
     ]
    }
   ],
   "source": [
    "d=[1,2,3,4,5]\n",
    "c=1\n",
    "for i in d:\n",
    "    c=c*i\n",
    "print(c)"
   ]
  },
  {
   "cell_type": "markdown",
   "id": "af3bd3b3",
   "metadata": {},
   "source": [
    "6)Create a Python program that prints all even numbers from 1 to 20 using a for loop"
   ]
  },
  {
   "cell_type": "code",
   "execution_count": 20,
   "id": "6589dcf6",
   "metadata": {},
   "outputs": [
    {
     "data": {
      "text/plain": [
       "[2, 4, 6, 8, 10, 12, 14, 16, 18, 20]"
      ]
     },
     "execution_count": 20,
     "metadata": {},
     "output_type": "execute_result"
    }
   ],
   "source": [
    "[i for i in range(1,21) if i%2==0]"
   ]
  },
  {
   "cell_type": "markdown",
   "id": "cba39065",
   "metadata": {},
   "source": [
    "7)Write a Python program that calculates the factorial of a number using a for loop.\n"
   ]
  },
  {
   "cell_type": "code",
   "execution_count": 21,
   "id": "653ce767",
   "metadata": {},
   "outputs": [],
   "source": [
    "def factorial(n):\n",
    "    c=1\n",
    "    for i in range(1,n+1):\n",
    "        c=c*i\n",
    "    return c"
   ]
  },
  {
   "cell_type": "code",
   "execution_count": 22,
   "id": "48520f6b",
   "metadata": {},
   "outputs": [
    {
     "data": {
      "text/plain": [
       "120"
      ]
     },
     "execution_count": 22,
     "metadata": {},
     "output_type": "execute_result"
    }
   ],
   "source": [
    "factorial(5)"
   ]
  },
  {
   "cell_type": "code",
   "execution_count": 23,
   "id": "454e7f11",
   "metadata": {},
   "outputs": [
    {
     "data": {
      "text/plain": [
       "1"
      ]
     },
     "execution_count": 23,
     "metadata": {},
     "output_type": "execute_result"
    }
   ],
   "source": [
    "factorial(0)"
   ]
  },
  {
   "cell_type": "markdown",
   "id": "d2a6df49",
   "metadata": {},
   "source": [
    "8)How can you iterate through the characters of a string using a for loop in Python?\n"
   ]
  },
  {
   "cell_type": "code",
   "execution_count": 24,
   "id": "d946da27",
   "metadata": {},
   "outputs": [
    {
     "name": "stdout",
     "output_type": "stream",
     "text": [
      "c\n",
      "h\n",
      "a\n",
      "r\n",
      "a\n",
      "n\n"
     ]
    }
   ],
   "source": [
    "c=\"charan\"\n",
    "for i in c:\n",
    "    print(i)"
   ]
  },
  {
   "cell_type": "markdown",
   "id": "426bbb18",
   "metadata": {},
   "source": [
    "9)Write a Python program to find the largest number in a list using a for loop.\n"
   ]
  },
  {
   "cell_type": "code",
   "execution_count": 37,
   "id": "ba138d9c",
   "metadata": {},
   "outputs": [
    {
     "name": "stdout",
     "output_type": "stream",
     "text": [
      "5\n"
     ]
    }
   ],
   "source": [
    "a=[1,2,3,4,5]\n",
    "l=a[0]\n",
    "for i in a:\n",
    "    if i >l:\n",
    "        l=i\n",
    "print(i)"
   ]
  },
  {
   "cell_type": "markdown",
   "id": "0fbee5b9",
   "metadata": {},
   "source": [
    "10)Create a Python program that prints the Fibonacci sequence up to a specified limit using a for loop.\n"
   ]
  },
  {
   "cell_type": "code",
   "execution_count": 42,
   "id": "907c3e82",
   "metadata": {},
   "outputs": [
    {
     "name": "stdout",
     "output_type": "stream",
     "text": [
      "Enter the limit for Fibonacii sequence4\n",
      "[0, 1, 1, 2]\n"
     ]
    }
   ],
   "source": [
    "limit=int(input(\"Enter the limit for Fibonacii sequence\"))\n",
    "c=[0,1]\n",
    "for i in range(2,limit):\n",
    "    d=c[i-1]+c[i-2]\n",
    "    if d<=limit:\n",
    "        c.append(d)\n",
    "    else:\n",
    "        break\n",
    "print(c)"
   ]
  },
  {
   "cell_type": "markdown",
   "id": "3cbaa84f",
   "metadata": {},
   "source": [
    "11)Write a Python program to count the number of vowels in a given string using a for loop.\n"
   ]
  },
  {
   "cell_type": "code",
   "execution_count": 62,
   "id": "52a21dc8",
   "metadata": {},
   "outputs": [
    {
     "name": "stdout",
     "output_type": "stream",
     "text": [
      "2\n"
     ]
    }
   ],
   "source": [
    "a=\"charan\"\n",
    "d=0\n",
    "C=\"aeiouAEIOU\"\n",
    "for i in a:\n",
    "    if i in C:\n",
    "        d=d+1\n",
    "print(d)"
   ]
  },
  {
   "cell_type": "markdown",
   "id": "61716c1f",
   "metadata": {},
   "source": [
    "12)Create a Python program that generates a multiplication table for a given number using a for loop.\n"
   ]
  },
  {
   "cell_type": "code",
   "execution_count": 1,
   "id": "cafdd153",
   "metadata": {},
   "outputs": [
    {
     "name": "stdout",
     "output_type": "stream",
     "text": [
      "Enter a number: 4\n",
      "Multiplication table for 4:\n",
      "4 x 1 = 4\n",
      "4 x 2 = 8\n",
      "4 x 3 = 12\n",
      "4 x 4 = 16\n",
      "4 x 5 = 20\n",
      "4 x 6 = 24\n",
      "4 x 7 = 28\n",
      "4 x 8 = 32\n",
      "4 x 9 = 36\n",
      "4 x 10 = 40\n"
     ]
    }
   ],
   "source": [
    "# Get the number for which you want to generate the multiplication table\n",
    "number = int(input(\"Enter a number: \"))\n",
    "\n",
    "# Define the range for the multiplication table (e.g., 1 to 10)\n",
    "start = 1\n",
    "end = 10\n",
    "\n",
    "# Print the multiplication table\n",
    "print(f\"Multiplication table for {number}:\")\n",
    "\n",
    "for i in range(start, end + 1):\n",
    "    result = number * i\n",
    "    print(f\"{number} x {i} = {result}\")\n"
   ]
  },
  {
   "cell_type": "markdown",
   "id": "6e01450a",
   "metadata": {},
   "source": [
    "14)Write a Python program to reverse a list using a for loop.\n"
   ]
  },
  {
   "cell_type": "code",
   "execution_count": 2,
   "id": "d7d00a92",
   "metadata": {},
   "outputs": [
    {
     "name": "stdout",
     "output_type": "stream",
     "text": [
      "Original List: [1, 2, 3, 4, 5]\n",
      "Reversed List: [5, 4, 3, 2, 1]\n"
     ]
    }
   ],
   "source": [
    "# Function to reverse a list using a for loop\n",
    "def reverse_list(input_list):\n",
    "    reversed_list = []\n",
    "    for item in reversed(input_list):\n",
    "        reversed_list.append(item)\n",
    "    return reversed_list\n",
    "\n",
    "# Input list\n",
    "original_list = [1, 2, 3, 4, 5]\n",
    "\n",
    "# Reverse the list using the function\n",
    "reversed_result = reverse_list(original_list)\n",
    "\n",
    "# Print the reversed list\n",
    "print(\"Original List:\", original_list)\n",
    "print(\"Reversed List:\", reversed_result)\n"
   ]
  },
  {
   "cell_type": "code",
   "execution_count": 3,
   "id": "8cf9b3fa",
   "metadata": {},
   "outputs": [
    {
     "name": "stdout",
     "output_type": "stream",
     "text": [
      "Original List: [5, 4, 3, 2, 1]\n"
     ]
    }
   ],
   "source": [
    "# Input list\n",
    "original_list = [1, 2, 3, 4, 5]\n",
    "\n",
    "# Length of the list\n",
    "length = len(original_list)\n",
    "\n",
    "# Reverse the list using a for loop\n",
    "for i in range(length // 2):\n",
    "    original_list[i], original_list[length - i - 1] = original_list[length - i - 1], original_list[i]\n",
    "\n",
    "# Print the reversed list\n",
    "print(\"Original List:\", original_list)\n"
   ]
  },
  {
   "cell_type": "markdown",
   "id": "1c301220",
   "metadata": {},
   "source": [
    "14)Write a Python program to find the common elements between two lists using a for loop.\n"
   ]
  },
  {
   "cell_type": "code",
   "execution_count": 4,
   "id": "4b7f9fc9",
   "metadata": {},
   "outputs": [
    {
     "name": "stdout",
     "output_type": "stream",
     "text": [
      "Common Elements: [3, 4, 5]\n"
     ]
    }
   ],
   "source": [
    "# Input lists\n",
    "list1 = [1, 2, 3, 4, 5]\n",
    "list2 = [3, 4, 5, 6, 7]\n",
    "\n",
    "# Initialize an empty list to store common elements\n",
    "common_elements = []\n",
    "\n",
    "# Use a for loop to iterate through list1\n",
    "for item1 in list1:\n",
    "    # Check if the current element from list1 is in list2\n",
    "    if item1 in list2:\n",
    "        # If it's in list2, add it to the common_elements list\n",
    "        common_elements.append(item1)\n",
    "\n",
    "# Print the common elements\n",
    "print(\"Common Elements:\", common_elements)\n"
   ]
  },
  {
   "cell_type": "markdown",
   "id": "434fd381",
   "metadata": {},
   "source": [
    "15)Explain how to use a for loop to iterate through the keys and values of a dictionary in Python."
   ]
  },
  {
   "cell_type": "code",
   "execution_count": 5,
   "id": "5774257b",
   "metadata": {},
   "outputs": [
    {
     "name": "stdout",
     "output_type": "stream",
     "text": [
      "Key: a, Value: 1\n",
      "Key: b, Value: 2\n",
      "Key: c, Value: 3\n"
     ]
    }
   ],
   "source": [
    "my_dict = {'a': 1, 'b': 2, 'c': 3}\n",
    "\n",
    "# Using a for loop with the items() method\n",
    "for key, value in my_dict.items():\n",
    "    print(f\"Key: {key}, Value: {value}\")\n"
   ]
  },
  {
   "cell_type": "markdown",
   "id": "58114340",
   "metadata": {},
   "source": [
    "16)Write a Python program to find the GCD (Greatest Common Divisor) of two numbers using a for loop.\n",
    " "
   ]
  },
  {
   "cell_type": "code",
   "execution_count": 6,
   "id": "3bddf74f",
   "metadata": {},
   "outputs": [
    {
     "name": "stdout",
     "output_type": "stream",
     "text": [
      "Enter the first number: 2\n",
      "Enter the second number: 6\n",
      "The GCD of 2 and 6 is 2\n"
     ]
    }
   ],
   "source": [
    "# Function to find the GCD of two numbers using the Euclidean algorithm\n",
    "def find_gcd(a, b):\n",
    "    while b:\n",
    "        a, b = b, a % b\n",
    "    return a\n",
    "\n",
    "# Input two numbers\n",
    "num1 = int(input(\"Enter the first number: \"))\n",
    "num2 = int(input(\"Enter the second number: \"))\n",
    "\n",
    "# Find the GCD using the function\n",
    "gcd = find_gcd(num1, num2)\n",
    "\n",
    "# Print the GCD\n",
    "print(f\"The GCD of {num1} and {num2} is {gcd}\")\n"
   ]
  },
  {
   "cell_type": "code",
   "execution_count": 7,
   "id": "ce355a45",
   "metadata": {},
   "outputs": [
    {
     "name": "stdout",
     "output_type": "stream",
     "text": [
      "Enter the first number: 2\n",
      "Enter the second number: 6\n",
      "The GCD of 2 and 6 is 2\n"
     ]
    }
   ],
   "source": [
    "# Input two numbers\n",
    "num1 = int(input(\"Enter the first number: \"))\n",
    "num2 = int(input(\"Enter the second number: \"))\n",
    "\n",
    "# Find the minimum of the two numbers\n",
    "min_num = min(num1, num2)\n",
    "\n",
    "# Initialize a variable to store the GCD\n",
    "gcd = 1\n",
    "\n",
    "# Use a for loop to find the GCD\n",
    "for i in range(1, min_num + 1):\n",
    "    if num1 % i == 0 and num2 % i == 0:\n",
    "        gcd = i\n",
    "\n",
    "# Print the GCD\n",
    "print(f\"The GCD of {num1} and {num2} is {gcd}\")\n"
   ]
  },
  {
   "cell_type": "markdown",
   "id": "51aecc11",
   "metadata": {},
   "source": [
    "17)Create a Python program that checks if a string is a palindrome using a for loop.\n"
   ]
  },
  {
   "cell_type": "code",
   "execution_count": 8,
   "id": "ddac7cfd",
   "metadata": {},
   "outputs": [
    {
     "name": "stdout",
     "output_type": "stream",
     "text": [
      "Enter a string: madam\n",
      "The entered string is a palindrome.\n"
     ]
    }
   ],
   "source": [
    "# Input a string from the user\n",
    "string = input(\"Enter a string: \")\n",
    "\n",
    "# Remove spaces and convert the string to lowercase\n",
    "string = string.replace(\" \", \"\").lower()\n",
    "\n",
    "# Initialize variables for checking palindrome\n",
    "is_palindrome = True\n",
    "length = len(string)\n",
    "\n",
    "# Use a for loop to check if the string is a palindrome\n",
    "for i in range(length // 2):\n",
    "    if string[i] != string[length - i - 1]:\n",
    "        is_palindrome = False\n",
    "        break\n",
    "\n",
    "# Check and print the result\n",
    "if is_palindrome:\n",
    "    print(\"The entered string is a palindrome.\")\n",
    "else:\n",
    "    print(\"The entered string is not a palindrome.\")\n"
   ]
  },
  {
   "cell_type": "markdown",
   "id": "b2b87035",
   "metadata": {},
   "source": [
    "18)Write a Python program to remove duplicates from a list using a for loop.\n"
   ]
  },
  {
   "cell_type": "code",
   "execution_count": 9,
   "id": "d810a3f7",
   "metadata": {},
   "outputs": [
    {
     "name": "stdout",
     "output_type": "stream",
     "text": [
      "Original List: [1, 2, 2, 3, 4, 4, 5, 6, 6]\n",
      "List with Duplicates Removed: [1, 2, 3, 4, 5, 6]\n"
     ]
    }
   ],
   "source": [
    "# Input list with duplicates\n",
    "original_list = [1, 2, 2, 3, 4, 4, 5, 6, 6]\n",
    "\n",
    "# Initialize an empty list to store unique elements\n",
    "unique_list = []\n",
    "\n",
    "# Use a for loop to iterate through the original list\n",
    "for item in original_list:\n",
    "    # If the item is not already in the unique list, add it\n",
    "    if item not in unique_list:\n",
    "        unique_list.append(item)\n",
    "\n",
    "# Print the list with duplicates removed\n",
    "print(\"Original List:\", original_list)\n",
    "print(\"List with Duplicates Removed:\", unique_list)\n"
   ]
  },
  {
   "cell_type": "markdown",
   "id": "404d24d2",
   "metadata": {},
   "source": [
    "19)Create a Python program that counts the number of words in a sentence using a for loop.\n"
   ]
  },
  {
   "cell_type": "code",
   "execution_count": 10,
   "id": "f3126ba0",
   "metadata": {},
   "outputs": [
    {
     "name": "stdout",
     "output_type": "stream",
     "text": [
      "Enter a sentence: Hi charan How are you\n",
      "Number of words in the sentence: 5\n"
     ]
    }
   ],
   "source": [
    "# Input a sentence from the user\n",
    "sentence = input(\"Enter a sentence: \")\n",
    "\n",
    "# Initialize a word count variable\n",
    "word_count = 0\n",
    "\n",
    "# Use a for loop to count words in the sentence\n",
    "for word in sentence.split():\n",
    "    word_count += 1\n",
    "\n",
    "# Print the word count\n",
    "print(f\"Number of words in the sentence: {word_count}\")\n"
   ]
  },
  {
   "cell_type": "markdown",
   "id": "4897e8b9",
   "metadata": {},
   "source": [
    "20)Write a Python program to find the sum of all odd numbers from 1 to 50 using a for loop.\n"
   ]
  },
  {
   "cell_type": "code",
   "execution_count": 11,
   "id": "d97092a5",
   "metadata": {},
   "outputs": [
    {
     "name": "stdout",
     "output_type": "stream",
     "text": [
      "The sum of odd numbers from 1 to 50 is: 625\n"
     ]
    }
   ],
   "source": [
    "# Initialize a variable to store the sum\n",
    "sum_of_odds = 0\n",
    "\n",
    "# Use a for loop to iterate through numbers from 1 to 50\n",
    "for number in range(1, 51):\n",
    "    # Check if the number is odd\n",
    "    if number % 2 != 0:\n",
    "        # If it's odd, add it to the sum\n",
    "        sum_of_odds += number\n",
    "\n",
    "# Print the sum of odd numbers\n",
    "print(f\"The sum of odd numbers from 1 to 50 is: {sum_of_odds}\")\n"
   ]
  },
  {
   "cell_type": "markdown",
   "id": "34cf1fac",
   "metadata": {},
   "source": [
    "21)Write a Python program that checks if a given year is a leap year using a for loop.\n"
   ]
  },
  {
   "cell_type": "code",
   "execution_count": 12,
   "id": "13410bb1",
   "metadata": {},
   "outputs": [
    {
     "name": "stdout",
     "output_type": "stream",
     "text": [
      "Enter a year: 2000\n",
      "2000 is a leap year.\n"
     ]
    }
   ],
   "source": [
    "# Input the year from the user\n",
    "year = int(input(\"Enter a year: \"))\n",
    "\n",
    "# Initialize a flag variable to check if it's a leap year\n",
    "is_leap_year = False\n",
    "\n",
    "# Check if it's a leap year using a for loop\n",
    "for i in range(4, year + 1, 4):\n",
    "    if i == year:\n",
    "        is_leap_year = True\n",
    "        break\n",
    "\n",
    "# Print the result\n",
    "if is_leap_year:\n",
    "    print(f\"{year} is a leap year.\")\n",
    "else:\n",
    "    print(f\"{year} is not a leap year.\")\n"
   ]
  },
  {
   "cell_type": "markdown",
   "id": "55ddc340",
   "metadata": {},
   "source": [
    "22)Create a Python program that calculates the square root of a number using a for loop.\n"
   ]
  },
  {
   "cell_type": "code",
   "execution_count": 15,
   "id": "fe7fa7ed",
   "metadata": {},
   "outputs": [
    {
     "name": "stdout",
     "output_type": "stream",
     "text": [
      "Enter a number: 4\n",
      "The approximate square root of 4.0 is 2.0\n"
     ]
    }
   ],
   "source": [
    "# Input a number for which you want to calculate the square root\n",
    "num = float(input(\"Enter a number: \"))\n",
    "\n",
    "# Initial guess for the square root\n",
    "guess = num / 2\n",
    "\n",
    "# Number of iterations for approximation\n",
    "iterations = 10  # You can adjust the number of iterations as needed\n",
    "\n",
    "# Use a for loop for approximation\n",
    "for _ in range(iterations):\n",
    "    guess = 0.5 * (guess + (num / guess))\n",
    "\n",
    "# Print the approximate square root\n",
    "print(f\"The approximate square root of {num} is {guess}\")\n"
   ]
  },
  {
   "cell_type": "markdown",
   "id": "e87dfbcf",
   "metadata": {},
   "source": [
    "23)Write a Python program to find the LCM (Least Common Multiple) of two numbers using a for loop.\n"
   ]
  },
  {
   "cell_type": "code",
   "execution_count": 16,
   "id": "f76a3c7e",
   "metadata": {},
   "outputs": [
    {
     "name": "stdout",
     "output_type": "stream",
     "text": [
      "Enter the first number: 2\n",
      "Enter the second number: 8\n",
      "The LCM of 2 and 8 is 8\n"
     ]
    }
   ],
   "source": [
    "# Function to find the GCD of two numbers using the Euclidean algorithm\n",
    "def find_gcd(a, b):\n",
    "    while b:\n",
    "        a, b = b, a % b\n",
    "    return a\n",
    "\n",
    "# Input two numbers\n",
    "num1 = int(input(\"Enter the first number: \"))\n",
    "num2 = int(input(\"Enter the second number: \"))\n",
    "\n",
    "# Find the greater number\n",
    "greater_number = max(num1, num2)\n",
    "\n",
    "# Initialize a variable for LCM\n",
    "lcm = greater_number\n",
    "\n",
    "# Use a for loop to find the LCM\n",
    "while True:\n",
    "    if lcm % num1 == 0 and lcm % num2 == 0:\n",
    "        break\n",
    "    lcm += greater_number\n",
    "\n",
    "# Print the LCM\n",
    "print(f\"The LCM of {num1} and {num2} is {lcm}\")\n"
   ]
  },
  {
   "cell_type": "markdown",
   "id": "05a41909",
   "metadata": {},
   "source": [
    "# If Else"
   ]
  },
  {
   "cell_type": "markdown",
   "id": "91264a87",
   "metadata": {},
   "source": [
    "1)Write a Python program to check if a number is positive, negative, or zero using an if-else statement.\n"
   ]
  },
  {
   "cell_type": "code",
   "execution_count": 17,
   "id": "d60d67a9",
   "metadata": {},
   "outputs": [
    {
     "name": "stdout",
     "output_type": "stream",
     "text": [
      "Enter a number: 5\n",
      "The number is positive.\n"
     ]
    }
   ],
   "source": [
    "# Input a number from the user\n",
    "number = float(input(\"Enter a number: \"))\n",
    "\n",
    "# Check if the number is positive, negative, or zero\n",
    "if number > 0:\n",
    "    print(\"The number is positive.\")\n",
    "elif number < 0:\n",
    "    print(\"The number is negative.\")\n",
    "else:\n",
    "    print(\"The number is zero.\")\n"
   ]
  },
  {
   "cell_type": "markdown",
   "id": "fe548198",
   "metadata": {},
   "source": [
    "2)Create a Python program that checks if a given number is even or odd using an if-else statement.\n"
   ]
  },
  {
   "cell_type": "code",
   "execution_count": 18,
   "id": "49a436ab",
   "metadata": {},
   "outputs": [
    {
     "name": "stdout",
     "output_type": "stream",
     "text": [
      "Enter a number: 68\n",
      "The number is even.\n"
     ]
    }
   ],
   "source": [
    "# Input a number from the user\n",
    "number = int(input(\"Enter a number: \"))\n",
    "\n",
    "# Check if the number is even or odd\n",
    "if number % 2 == 0:\n",
    "    print(\"The number is even.\")\n",
    "else:\n",
    "    print(\"The number is odd.\")\n"
   ]
  },
  {
   "cell_type": "markdown",
   "id": "4a4f19b2",
   "metadata": {},
   "source": [
    "3)How can you use nested if-else statements in Python, and provide an example?\n"
   ]
  },
  {
   "cell_type": "code",
   "execution_count": 20,
   "id": "3c1fc306",
   "metadata": {},
   "outputs": [
    {
     "name": "stdout",
     "output_type": "stream",
     "text": [
      "Enter the student's score: 45\n",
      "The student's grade is F\n"
     ]
    }
   ],
   "source": [
    "# Input the student's score\n",
    "score = float(input(\"Enter the student's score: \"))\n",
    "\n",
    "# Check the grade based on the score\n",
    "if score >= 90:\n",
    "    grade = \"A\"\n",
    "else:\n",
    "    if score >= 80:\n",
    "        grade = \"B\"\n",
    "    else:\n",
    "        if score >= 70:\n",
    "            grade = \"C\"\n",
    "        else:\n",
    "            if score >= 60:\n",
    "                grade = \"D\"\n",
    "            else:\n",
    "                grade = \"F\"\n",
    "\n",
    "# Print the grade\n",
    "print(f\"The student's grade is {grade}\")"
   ]
  },
  {
   "cell_type": "markdown",
   "id": "417dccbf",
   "metadata": {},
   "source": [
    "We take the student's score as input.\n",
    "\n",
    "We use nested if-else statements to check the grade based on the score:\n",
    "\n",
    "If the score is greater than or equal to 90, the grade is \"A.\"\n",
    "If the score is not greater than or equal to 90, we go to the next if-else block:\n",
    "If the score is greater than or equal to 80, the grade is \"B.\"\n",
    "If the score is not greater than or equal to 80, we go to the next if-else block:\n",
    "And so on, until we check all possible score ranges and assign the appropriate grade.\n",
    "Finally, we print the grade based on the nested if-else conditions.\n",
    "\n"
   ]
  },
  {
   "cell_type": "markdown",
   "id": "e09a9c93",
   "metadata": {},
   "source": [
    "4)Write a Python program to determine the largest of three numbers using if-else."
   ]
  },
  {
   "cell_type": "code",
   "execution_count": 21,
   "id": "efa9f448",
   "metadata": {},
   "outputs": [
    {
     "name": "stdout",
     "output_type": "stream",
     "text": [
      "Enter the first number: 4\n",
      "Enter the second number: 5\n",
      "Enter the third number: 6\n",
      "The largest number among 4.0, 5.0, and 6.0 is 6.0\n"
     ]
    }
   ],
   "source": [
    "# Input three numbers from the user\n",
    "num1 = float(input(\"Enter the first number: \"))\n",
    "num2 = float(input(\"Enter the second number: \"))\n",
    "num3 = float(input(\"Enter the third number: \"))\n",
    "\n",
    "# Check which number is the largest\n",
    "if num1 >= num2 and num1 >= num3:\n",
    "    largest = num1\n",
    "elif num2 >= num1 and num2 >= num3:\n",
    "    largest = num2\n",
    "else:\n",
    "    largest = num3\n",
    "\n",
    "# Print the largest number\n",
    "print(f\"The largest number among {num1}, {num2}, and {num3} is {largest}\")\n"
   ]
  },
  {
   "cell_type": "markdown",
   "id": "efe1f567",
   "metadata": {},
   "source": [
    "5)Write a Python program that calculates the absolute value of a number using if-else.\n"
   ]
  },
  {
   "cell_type": "code",
   "execution_count": 22,
   "id": "8873cd27",
   "metadata": {},
   "outputs": [
    {
     "name": "stdout",
     "output_type": "stream",
     "text": [
      "Enter a number: -9\n",
      "The absolute value of -9.0 is 9.0\n"
     ]
    }
   ],
   "source": [
    "# Input a number from the user\n",
    "num = float(input(\"Enter a number: \"))\n",
    "\n",
    "# Calculate the absolute value using if-else\n",
    "if num < 0:\n",
    "    absolute_value = -num\n",
    "else:\n",
    "    absolute_value = num\n",
    "\n",
    "# Print the absolute value\n",
    "print(f\"The absolute value of {num} is {absolute_value}\")\n"
   ]
  },
  {
   "cell_type": "markdown",
   "id": "c0e07437",
   "metadata": {},
   "source": [
    "6)Create a Python program that checks if a given character is a vowel or consonant using if-else."
   ]
  },
  {
   "cell_type": "code",
   "execution_count": 25,
   "id": "1a7066e9",
   "metadata": {},
   "outputs": [
    {
     "name": "stdout",
     "output_type": "stream",
     "text": [
      "Enter a character: E\n",
      "The character 'e' is a vowel.\n"
     ]
    }
   ],
   "source": [
    "# Input a character from the user (assuming single character input)\n",
    "char = input(\"Enter a character: \")\n",
    "\n",
    "# Convert the character to lowercase to handle both cases\n",
    "char = char.lower()\n",
    "\n",
    "# Check if the character is a vowel or consonant using if-else\n",
    "if char in ('a', 'e', 'i', 'o', 'u'):\n",
    "    print(f\"The character '{char}' is a vowel.\")\n",
    "else:\n",
    "    print(f\"The character '{char}' is a consonant.\")\n"
   ]
  },
  {
   "cell_type": "markdown",
   "id": "48e8c78b",
   "metadata": {},
   "source": [
    "7)Write a Python program to determine if a user is eligible to vote based on their age using if-else."
   ]
  },
  {
   "cell_type": "code",
   "execution_count": 26,
   "id": "63369eef",
   "metadata": {},
   "outputs": [
    {
     "name": "stdout",
     "output_type": "stream",
     "text": [
      "Enter your age: 18\n",
      "You are eligible to vote.\n"
     ]
    }
   ],
   "source": [
    "# Input the user's age\n",
    "age = int(input(\"Enter your age: \"))\n",
    "\n",
    "# Check if the user is eligible to vote using if-else\n",
    "if age >= 18:\n",
    "    print(\"You are eligible to vote.\")\n",
    "else:\n",
    "    print(\"You are not eligible to vote.\")\n"
   ]
  },
  {
   "cell_type": "markdown",
   "id": "81ba4dfb",
   "metadata": {},
   "source": [
    "8)Create a Python program that calculates the discount amount based on the purchase amount using if-else.\n"
   ]
  },
  {
   "cell_type": "code",
   "execution_count": 27,
   "id": "1dabb6f9",
   "metadata": {},
   "outputs": [
    {
     "name": "stdout",
     "output_type": "stream",
     "text": [
      "Enter the purchase amount: 4000\n",
      "You have received a 10.0% discount of $400.00.\n",
      "The final amount to pay is $3600.00\n"
     ]
    }
   ],
   "source": [
    "# Input the purchase amount from the user\n",
    "purchase_amount = float(input(\"Enter the purchase amount: \"))\n",
    "\n",
    "# Initialize discount rate and discount amount\n",
    "discount_rate = 0\n",
    "discount_amount = 0\n",
    "\n",
    "# Apply discounts based on the purchase amount using if-else\n",
    "if purchase_amount >= 100:\n",
    "    discount_rate = 0.10  # 10% discount for purchases of $100 or more\n",
    "elif purchase_amount >= 50:\n",
    "    discount_rate = 0.05  # 5% discount for purchases between $50 and $99.99\n",
    "\n",
    "# Calculate the discount amount\n",
    "discount_amount = purchase_amount * discount_rate\n",
    "\n",
    "# Print the discount amount\n",
    "if discount_amount > 0:\n",
    "    print(f\"You have received a {discount_rate*100}% discount of ${discount_amount:.2f}.\")\n",
    "else:\n",
    "    print(\"Sorry, no discount applied.\")\n",
    "\n",
    "# Calculate the final amount after applying the discount\n",
    "final_amount = purchase_amount - discount_amount\n",
    "print(f\"The final amount to pay is ${final_amount:.2f}\")\n"
   ]
  },
  {
   "cell_type": "markdown",
   "id": "fb2990d5",
   "metadata": {},
   "source": [
    "9)Write a Python program to check if a number is within a specified range using if-else.\n"
   ]
  },
  {
   "cell_type": "code",
   "execution_count": 28,
   "id": "ad32114a",
   "metadata": {},
   "outputs": [
    {
     "name": "stdout",
     "output_type": "stream",
     "text": [
      "Enter a number: 45\n",
      "The number 45.0 is within the range [10, 50].\n"
     ]
    }
   ],
   "source": [
    "# Input a number from the user\n",
    "number = float(input(\"Enter a number: \"))\n",
    "\n",
    "# Define the specified range\n",
    "lower_limit = 10\n",
    "upper_limit = 50\n",
    "\n",
    "# Check if the number is within the specified range using if-else\n",
    "if number >= lower_limit and number <= upper_limit:\n",
    "    print(f\"The number {number} is within the range [{lower_limit}, {upper_limit}].\")\n",
    "else:\n",
    "    print(f\"The number {number} is outside the range [{lower_limit}, {upper_limit}].\")\n"
   ]
  },
  {
   "cell_type": "markdown",
   "id": "080982b2",
   "metadata": {},
   "source": [
    "10)Create a Python program that determines the grade of a student based on their score using if-else."
   ]
  },
  {
   "cell_type": "code",
   "execution_count": 30,
   "id": "a98c13c7",
   "metadata": {},
   "outputs": [
    {
     "name": "stdout",
     "output_type": "stream",
     "text": [
      "Enter the student's score: 90\n",
      "The student's grade is A\n"
     ]
    }
   ],
   "source": [
    "# Input the student's score\n",
    "score = float(input(\"Enter the student's score: \"))\n",
    "\n",
    "# Determine the grade based on the score using if-else\n",
    "if score >= 90:\n",
    "    grade = \"A\"\n",
    "elif score >= 80:\n",
    "    grade = \"B\"\n",
    "elif score >= 70:\n",
    "    grade = \"C\"\n",
    "elif score >= 60:\n",
    "    grade = \"D\"\n",
    "else:\n",
    "    grade = \"F\"\n",
    "\n",
    "# Print the grade\n",
    "print(f\"The student's grade is {grade}\")\n"
   ]
  },
  {
   "cell_type": "markdown",
   "id": "bf412724",
   "metadata": {},
   "source": [
    "11)Write a Python program to check if a string is empty or not using if-else.\n"
   ]
  },
  {
   "cell_type": "code",
   "execution_count": 31,
   "id": "e5fe66d6",
   "metadata": {},
   "outputs": [
    {
     "name": "stdout",
     "output_type": "stream",
     "text": [
      "Enter a string: \n",
      "The string is empty.\n"
     ]
    }
   ],
   "source": [
    "# Input a string from the user\n",
    "string = input(\"Enter a string: \")\n",
    "\n",
    "# Check if the string is empty using if-else\n",
    "if len(string) == 0:\n",
    "    print(\"The string is empty.\")\n",
    "else:\n",
    "    print(\"The string is not empty.\")\n"
   ]
  },
  {
   "cell_type": "markdown",
   "id": "a4133554",
   "metadata": {},
   "source": [
    "12)Create a Python program that identifies the type of a triangle (e.g., equilateral, isosceles, or scalene) based on input values using if-else.\n"
   ]
  },
  {
   "cell_type": "code",
   "execution_count": 38,
   "id": "7701b141",
   "metadata": {},
   "outputs": [
    {
     "name": "stdout",
     "output_type": "stream",
     "text": [
      "Enter the length of the first side: 60\n",
      "Enter the length of the second side: 60\n",
      "Enter the length of the third side: 60\n",
      "The triangle is a equilateral triangle.\n"
     ]
    }
   ],
   "source": [
    "# Input the lengths of the three sides of the triangle\n",
    "side1 = float(input(\"Enter the length of the first side: \"))\n",
    "side2 = float(input(\"Enter the length of the second side: \"))\n",
    "side3 = float(input(\"Enter the length of the third side: \"))\n",
    "\n",
    "# Check the type of triangle using if-else\n",
    "if side1 == side2 == side3:\n",
    "    triangle_type = \"equilateral\"\n",
    "elif side1 == side2 or side1 == side3 or side2 == side3:\n",
    "    triangle_type = \"isosceles\"\n",
    "else:\n",
    "    triangle_type = \"scalene\"\n",
    "\n",
    "# Print the type of triangle\n",
    "print(f\"The triangle is a {triangle_type} triangle.\")\n"
   ]
  },
  {
   "cell_type": "markdown",
   "id": "ca3c4b15",
   "metadata": {},
   "source": [
    "13)Write a Python program to determine the day of the week based on a user-provided number using if-else.\n"
   ]
  },
  {
   "cell_type": "code",
   "execution_count": 39,
   "id": "c5545c83",
   "metadata": {},
   "outputs": [
    {
     "name": "stdout",
     "output_type": "stream",
     "text": [
      "Enter a number between 1 and 7: 6\n",
      "The day corresponding to 6 is Friday.\n"
     ]
    }
   ],
   "source": [
    "# Input a number from the user (between 1 and 7)\n",
    "day_number = int(input(\"Enter a number between 1 and 7: \"))\n",
    "\n",
    "# Determine the day of the week using if-else\n",
    "if day_number == 1:\n",
    "    day = \"Sunday\"\n",
    "elif day_number == 2:\n",
    "    day = \"Monday\"\n",
    "elif day_number == 3:\n",
    "    day = \"Tuesday\"\n",
    "elif day_number == 4:\n",
    "    day = \"Wednesday\"\n",
    "elif day_number == 5:\n",
    "    day = \"Thursday\"\n",
    "elif day_number == 6:\n",
    "    day = \"Friday\"\n",
    "elif day_number == 7:\n",
    "    day = \"Saturday\"\n",
    "else:\n",
    "    day = \"Invalid input\"\n",
    "\n",
    "# Print the day of the week\n",
    "print(f\"The day corresponding to {day_number} is {day}.\")\n"
   ]
  },
  {
   "cell_type": "markdown",
   "id": "34bbb20a",
   "metadata": {},
   "source": [
    "14)Create a Python program that checks if a given year is a leap year using both if-else and a function.\n"
   ]
  },
  {
   "cell_type": "code",
   "execution_count": 40,
   "id": "51c65c1e",
   "metadata": {},
   "outputs": [
    {
     "name": "stdout",
     "output_type": "stream",
     "text": [
      "Enter a year: 2024\n",
      "2024 is a leap year.\n"
     ]
    }
   ],
   "source": [
    "# Function to check if a year is a leap year\n",
    "def is_leap_year(year):\n",
    "    if (year % 4 == 0 and year % 100 != 0) or (year % 400 == 0):\n",
    "        return True\n",
    "    else:\n",
    "        return False\n",
    "\n",
    "# Input a year from the user\n",
    "year = int(input(\"Enter a year: \"))\n",
    "\n",
    "# Check if the year is a leap year using the function\n",
    "if is_leap_year(year):\n",
    "    print(f\"{year} is a leap year.\")\n",
    "else:\n",
    "    print(f\"{year} is not a leap year.\")\n"
   ]
  },
  {
   "cell_type": "markdown",
   "id": "cb552e86",
   "metadata": {},
   "source": [
    "15)How do you use the \"assert\" statement in Python to add debugging checks within if-else blocks?\n"
   ]
  },
  {
   "cell_type": "raw",
   "id": "86638c6d",
   "metadata": {},
   "source": [
    "The `assert` statement in Python is used for debugging and testing purposes. It allows you to include debugging checks within your code, particularly in `if-else` blocks, to ensure that certain conditions are met. If the condition specified in the `assert` statement is `False`, it raises an `AssertionError` exception, which can help you identify issues during development.\n",
    "\n",
    "Here's how you can use the `assert` statement within `if-else` blocks:\n",
    "\n",
    "```python\n",
    "# Example 1: Using assert to check a condition within an if-else block\n",
    "\n",
    "x = 10\n",
    "\n",
    "if x > 5:\n",
    "    assert x < 20, \"x should be less than 20\"\n",
    "else:\n",
    "    assert x >= 0, \"x should be non-negative\"\n",
    "```\n",
    "\n",
    "In this example:\n",
    "\n",
    "- We have an `if-else` block that checks the value of `x`.\n",
    "- Inside the `if` block, we use `assert` to check if `x` is less than 20. If the condition is `False`, it will raise an `AssertionError` with the specified error message.\n",
    "- Inside the `else` block, we use `assert` to check if `x` is non-negative (greater than or equal to 0).\n",
    "\n",
    "Here's another example where `assert` is used to check the results of a function:\n",
    "\n",
    "```python\n",
    "# Example 2: Using assert to check a function's result within an if-else block\n",
    "\n",
    "def divide(a, b):\n",
    "    assert b != 0, \"Division by zero is not allowed\"\n",
    "    return a / b\n",
    "\n",
    "numerator = 10\n",
    "denominator = 0\n",
    "\n",
    "if denominator != 0:\n",
    "    result = divide(numerator, denominator)\n",
    "else:\n",
    "    result = None\n",
    "\n",
    "print(result)\n",
    "```\n",
    "\n",
    "In this example:\n",
    "\n",
    "- We have a function `divide()` that performs division and uses `assert` to check if the denominator is not zero. If it is, it raises an `AssertionError` with the specified error message.\n",
    "- Inside the `if-else` block, we check if the denominator is not zero before calling the `divide()` function to avoid division by zero.\n",
    "\n",
    "Using `assert` statements in this way can help you catch and identify issues during development and testing by providing informative error messages when conditions are not met. However, it's important to note that `assert` statements are typically disabled in production code for performance reasons, so they should be used primarily for debugging and testing purposes."
   ]
  },
  {
   "cell_type": "markdown",
   "id": "34ab764c",
   "metadata": {},
   "source": [
    "16)Create a Python program that determines the eligibility of a person for a senior citizen discount based on age using if-else."
   ]
  },
  {
   "cell_type": "code",
   "execution_count": 42,
   "id": "dc6dd01b",
   "metadata": {},
   "outputs": [
    {
     "name": "stdout",
     "output_type": "stream",
     "text": [
      "Enter your age: 60\n",
      "Congratulations! You are eligible for a senior citizen discount.\n"
     ]
    }
   ],
   "source": [
    "# Input the person's age\n",
    "age = int(input(\"Enter your age: \"))\n",
    "\n",
    "# Define the qualifying age for a senior citizen discount\n",
    "senior_age = 60\n",
    "\n",
    "# Check eligibility for the senior citizen discount using if-else\n",
    "if age >= senior_age:\n",
    "    print(\"Congratulations! You are eligible for a senior citizen discount.\")\n",
    "else:\n",
    "    print(\"Sorry, you are not eligible for a senior citizen discount.\")\n"
   ]
  },
  {
   "cell_type": "markdown",
   "id": "5114af3f",
   "metadata": {},
   "source": [
    "17)Write a Python program to categorize a given character as uppercase, lowercase, or neither using if-else."
   ]
  },
  {
   "cell_type": "code",
   "execution_count": 43,
   "id": "3e615ae7",
   "metadata": {},
   "outputs": [
    {
     "name": "stdout",
     "output_type": "stream",
     "text": [
      "Enter a character: Sai\n",
      "The character 'Sai' is neither uppercase nor lowercase.\n"
     ]
    }
   ],
   "source": [
    "# Input a character from the user (assuming single character input)\n",
    "char = input(\"Enter a character: \")\n",
    "\n",
    "# Check if the character is uppercase, lowercase, or neither using if-else\n",
    "if char.isupper():\n",
    "    print(f\"The character '{char}' is uppercase.\")\n",
    "elif char.islower():\n",
    "    print(f\"The character '{char}' is lowercase.\")\n",
    "else:\n",
    "    print(f\"The character '{char}' is neither uppercase nor lowercase.\")\n"
   ]
  },
  {
   "cell_type": "markdown",
   "id": "d54bf517",
   "metadata": {},
   "source": [
    "18)Write a Python program to determine the roots of a quadratic equation using if-else."
   ]
  },
  {
   "cell_type": "code",
   "execution_count": 44,
   "id": "5fe0b1d0",
   "metadata": {},
   "outputs": [
    {
     "name": "stdout",
     "output_type": "stream",
     "text": [
      "Enter the coefficient 'a': 1\n",
      "Enter the coefficient 'b': -4\n",
      "Enter the coefficient 'c': 3\n",
      "The roots are real and different: 3.0 and 1.0\n"
     ]
    }
   ],
   "source": [
    "import math\n",
    "\n",
    "# Input the coefficients of the quadratic equation\n",
    "a = float(input(\"Enter the coefficient 'a': \"))\n",
    "b = float(input(\"Enter the coefficient 'b': \"))\n",
    "c = float(input(\"Enter the coefficient 'c': \"))\n",
    "\n",
    "# Calculate the discriminant\n",
    "discriminant = b**2 - 4*a*c\n",
    "\n",
    "# Check the nature of roots using if-else\n",
    "if discriminant > 0:\n",
    "    root1 = (-b + math.sqrt(discriminant)) / (2*a)\n",
    "    root2 = (-b - math.sqrt(discriminant)) / (2*a)\n",
    "    print(f\"The roots are real and different: {root1} and {root2}\")\n",
    "elif discriminant == 0:\n",
    "    root1 = root2 = -b / (2*a)\n",
    "    print(f\"The roots are real and equal: {root1}\")\n",
    "else:\n",
    "    real_part = -b / (2*a)\n",
    "    imaginary_part = math.sqrt(abs(discriminant)) / (2*a)\n",
    "    print(f\"The roots are complex: {real_part} + {imaginary_part}i and {real_part} - {imaginary_part}i\")\n"
   ]
  },
  {
   "cell_type": "markdown",
   "id": "5663b435",
   "metadata": {},
   "source": [
    "19)Create a Python program that checks if a given year is a century year or not using if-else.\n"
   ]
  },
  {
   "cell_type": "code",
   "execution_count": 45,
   "id": "1a0a7184",
   "metadata": {},
   "outputs": [
    {
     "name": "stdout",
     "output_type": "stream",
     "text": [
      "Enter a year: 2022\n",
      "2022 is not a century year.\n"
     ]
    }
   ],
   "source": [
    "# Input year from the user\n",
    "year = int(input(\"Enter a year: \"))\n",
    "\n",
    "# Check if it's a century year\n",
    "if year % 100 == 0:\n",
    "    print(f\"{year} is a century year.\")\n",
    "else:\n",
    "    print(f\"{year} is not a century year.\")\n"
   ]
  },
  {
   "cell_type": "markdown",
   "id": "6d386cab",
   "metadata": {},
   "source": [
    "20)Write a Python program to determine if a given number is a perfect square using if-else.\n"
   ]
  },
  {
   "cell_type": "code",
   "execution_count": 47,
   "id": "92ecbcdd",
   "metadata": {},
   "outputs": [
    {
     "name": "stdout",
     "output_type": "stream",
     "text": [
      "Enter a number: 54\n",
      "54 is not a perfect square.\n"
     ]
    }
   ],
   "source": [
    "import math\n",
    "\n",
    "# Input a number from the user\n",
    "number = int(input(\"Enter a number: \"))\n",
    "\n",
    "# Calculate the square root of the number\n",
    "square_root = math.sqrt(number)\n",
    "\n",
    "# Check if the square root is an integer\n",
    "if square_root.is_integer():\n",
    "    print(f\"{number} is a perfect square.\")\n",
    "else:\n",
    "    print(f\"{number} is not a perfect square.\")\n"
   ]
  },
  {
   "cell_type": "markdown",
   "id": "06e36803",
   "metadata": {},
   "source": [
    "21)Explain the purpose of the \"continue\" and \"break\" statements within if-else loops.\n"
   ]
  },
  {
   "cell_type": "raw",
   "id": "4b1047cb",
   "metadata": {},
   "source": [
    "The \"continue\" and \"break\" statements are control flow statements used within loops (such as for loops, while loops, and within if-else blocks) to alter the normal flow of execution. They serve different purposes:\n",
    "\n",
    "1. **Continue Statement:**\n",
    "   - **Purpose:** The \"continue\" statement is used to skip the current iteration of a loop and continue with the next iteration.\n",
    "   - **Usage:** It's typically used when you want to skip some specific part of the loop's code for certain conditions but continue looping for other iterations.\n",
    "   - **Example:** Suppose you are iterating over a list of numbers and want to print only the even numbers:\n",
    "     ```python\n",
    "     numbers = [1, 2, 3, 4, 5, 6]\n",
    "     for num in numbers:\n",
    "         if num % 2 != 0:\n",
    "             continue  # Skip the odd numbers\n",
    "         print(num)  # This line is skipped for odd numbers\n",
    "     ```\n",
    "     Output:\n",
    "     ```\n",
    "     2\n",
    "     4\n",
    "     6\n",
    "     ```\n",
    "   - **Effect:** In the above example, when the \"continue\" statement is encountered for odd numbers, the code inside the loop after the \"continue\" statement (in this case, the \"print\" statement) is skipped, and the loop proceeds to the next iteration.\n",
    "\n",
    "2. **Break Statement:**\n",
    "   - **Purpose:** The \"break\" statement is used to exit the loop prematurely, even if the loop's condition hasn't been fully satisfied.\n",
    "   - **Usage:** It's used when you want to terminate the loop early based on a certain condition.\n",
    "   - **Example:** Suppose you are searching for a specific number in a list and want to stop searching once you find it:\n",
    "     ```python\n",
    "     numbers = [1, 2, 3, 4, 5, 6]\n",
    "     target = 4\n",
    "     for num in numbers:\n",
    "         if num == target:\n",
    "             print(f\"Found {target}!\")\n",
    "             break  # Exit the loop\n",
    "     ```\n",
    "     Output:\n",
    "     ```\n",
    "     Found 4!\n",
    "     ```\n",
    "   - **Effect:** In this example, when the \"break\" statement is encountered after finding the target number, the loop is terminated immediately, and the program continues with the code after the loop.\n",
    "\n",
    "In summary, \"continue\" is used to skip the current iteration and proceed to the next iteration of a loop, while \"break\" is used to exit the loop prematurely. These statements provide control over the flow of execution in loops, allowing you to handle specific conditions and requirements within your code."
   ]
  },
  {
   "cell_type": "markdown",
   "id": "4943e2a8",
   "metadata": {},
   "source": [
    "22)Create a Python program that calculates the BMI (Body Mass Index) of a person based on their weight and height using if-else"
   ]
  },
  {
   "cell_type": "code",
   "execution_count": 49,
   "id": "a4015dd6",
   "metadata": {},
   "outputs": [
    {
     "name": "stdout",
     "output_type": "stream",
     "text": [
      "Enter your weight in kilograms: 76\n",
      "Enter your height in meters: 2\n",
      "Your BMI is 19.00 and you are categorized as Normal Weight.\n"
     ]
    }
   ],
   "source": [
    "# Input weight and height from the user\n",
    "weight_kg = float(input(\"Enter your weight in kilograms: \"))\n",
    "height_m = float(input(\"Enter your height in meters: \"))\n",
    "\n",
    "# Calculate BMI\n",
    "bmi = weight_kg / (height_m ** 2)\n",
    "\n",
    "# Interpret and display the BMI category\n",
    "if bmi < 18.5:\n",
    "    category = \"Underweight\"\n",
    "elif 18.5 <= bmi < 24.9:\n",
    "    category = \"Normal Weight\"\n",
    "elif 25 <= bmi < 29.9:\n",
    "    category = \"Overweight\"\n",
    "else:\n",
    "    category = \"Obese\"\n",
    "\n",
    "print(f\"Your BMI is {bmi:.2f} and you are categorized as {category}.\")\n"
   ]
  },
  {
   "cell_type": "markdown",
   "id": "c4e96f57",
   "metadata": {},
   "source": [
    "23)How can you use the \"filter()\" function with if-else statements to filter elements from a list?"
   ]
  },
  {
   "cell_type": "raw",
   "id": "32c10c18",
   "metadata": {},
   "source": [
    "In Python, you can use the `filter()` function along with if-else statements to filter elements from a list based on a specified condition. The `filter()` function takes two arguments: a function that defines the filtering condition and an iterable (usually a list) from which you want to filter elements. It returns an iterator that yields the elements from the iterable for which the function returns `True`.\n",
    "\n",
    "To incorporate if-else statements into the filtering process, you can define a custom filtering function using a lambda function or a regular function and then use it with `filter()`. Here's a step-by-step guide on how to do this:\n",
    "\n",
    "1. Define your custom filtering function. This function should take an element from the iterable and return `True` if you want to include it in the filtered result or `False` if you want to exclude it based on your condition.\n",
    "\n",
    "2. Use the `filter()` function with your custom filtering function and the iterable you want to filter.\n",
    "\n",
    "3. Convert the filtered result (iterator) back into a list or another desired data structure if needed.\n",
    "\n",
    "Here's an example that demonstrates filtering a list of numbers to include only even numbers:\n",
    "\n",
    "```python\n",
    "# Define the custom filtering function\n",
    "def is_even(num):\n",
    "    if num % 2 == 0:\n",
    "        return True\n",
    "    else:\n",
    "        return False\n",
    "\n",
    "# List of numbers to be filtered\n",
    "numbers = [1, 2, 3, 4, 5, 6, 7, 8, 9, 10]\n",
    "\n",
    "# Use filter() with the custom function\n",
    "filtered_numbers = filter(is_even, numbers)\n",
    "\n",
    "# Convert the filtered result to a list\n",
    "filtered_numbers_list = list(filtered_numbers)\n",
    "\n",
    "# Print the result\n",
    "print(filtered_numbers_list)\n",
    "```\n",
    "\n",
    "In this example, the `is_even` function checks if a number is even, and `filter(is_even, numbers)` filters the `numbers` list, returning an iterator containing only the even numbers. Finally, we convert the iterator back into a list to get the filtered result.\n",
    "\n",
    "You can adapt this approach to your specific filtering conditions by modifying the custom filtering function accordingly."
   ]
  },
  {
   "cell_type": "markdown",
   "id": "2317688f",
   "metadata": {},
   "source": [
    "24)Write a Python program to determine if a given number is prime or not using if-else."
   ]
  },
  {
   "cell_type": "code",
   "execution_count": 50,
   "id": "4d35777d",
   "metadata": {},
   "outputs": [
    {
     "name": "stdout",
     "output_type": "stream",
     "text": [
      "Enter a number: 45\n",
      "45 is not a prime number.\n"
     ]
    }
   ],
   "source": [
    "# Function to check if a number is prime\n",
    "def is_prime(number):\n",
    "    # Prime numbers are greater than 1\n",
    "    if number <= 1:\n",
    "        return False\n",
    "    # Check for factors from 2 to the square root of the number\n",
    "    for i in range(2, int(number**0.5) + 1):\n",
    "        if number % i == 0:\n",
    "            return False\n",
    "    return True\n",
    "\n",
    "# Input from the user\n",
    "num = int(input(\"Enter a number: \"))\n",
    "\n",
    "# Check if the number is prime and display the result\n",
    "if is_prime(num):\n",
    "    print(f\"{num} is a prime number.\")\n",
    "else:\n",
    "    print(f\"{num} is not a prime number.\")\n"
   ]
  },
  {
   "cell_type": "markdown",
   "id": "f0fbec9b",
   "metadata": {},
   "source": [
    "# Map"
   ]
  },
  {
   "cell_type": "markdown",
   "id": "84d7a9e9",
   "metadata": {},
   "source": [
    "1)Explain the purpose of the `map()` function in Python and provide an example of how it can be used to apply a function to each element of an iterable.\n"
   ]
  },
  {
   "cell_type": "raw",
   "id": "702c1b7e",
   "metadata": {},
   "source": [
    "The map() function in Python is used to apply a specified function to each item (element) in an iterable (e.g., a list, tuple, or other iterable) and returns an iterable (usually a map object or a list, depending on the Python version). The primary purpose of map() is to transform or apply a given function to each element of the iterable, generating a new iterable with the results. It's a convenient way to perform the same operation on all elements of a collection without writing explicit loops.\n",
    "Here's the basic syntax of the map() function:\n",
    "map(function, iterable)\n",
    "function: The function to apply to each element in the iterable.\n",
    "iterable: The iterable (e.g., a list, tuple) whose elements will be processed by the function."
   ]
  },
  {
   "cell_type": "code",
   "execution_count": 1,
   "id": "93e75c5f",
   "metadata": {},
   "outputs": [],
   "source": [
    "# Code of Map Function"
   ]
  },
  {
   "cell_type": "code",
   "execution_count": 9,
   "id": "a4f7de15",
   "metadata": {},
   "outputs": [
    {
     "name": "stdout",
     "output_type": "stream",
     "text": [
      "[1, 4, 9, 16, 25]\n"
     ]
    }
   ],
   "source": [
    "# Define a function that squares a number\n",
    "def square(x):\n",
    "    return x ** 2\n",
    "\n",
    "# Create a list of numbers\n",
    "numbers = [1, 2, 3, 4, 5]\n",
    "\n",
    "# Use map() to apply the square function to each element of the list\n",
    "#squared_numbers = map(square, numbers)\n",
    "\n",
    "# Convert the map object to a list (in Python 3) or iterate through it (in Python 2)\n",
    "squared_numbers = list(map(square,numbers))\n",
    "\n",
    "# Print the result\n",
    "print(squared_numbers)\n"
   ]
  },
  {
   "cell_type": "markdown",
   "id": "dcaab004",
   "metadata": {},
   "source": [
    "2)Write a Python program that uses the `map()` function to square each element of a list of numbers."
   ]
  },
  {
   "cell_type": "code",
   "execution_count": 10,
   "id": "09c8b693",
   "metadata": {},
   "outputs": [
    {
     "name": "stdout",
     "output_type": "stream",
     "text": [
      "[1, 4, 9, 16, 25]\n"
     ]
    }
   ],
   "source": [
    "# Define a function that squares a number\n",
    "def square(x):\n",
    "    return x ** 2\n",
    "\n",
    "# Create a list of numbers\n",
    "numbers = [1, 2, 3, 4, 5]\n",
    "\n",
    "# Use map() to apply the square function to each element of the list\n",
    "squared_numbers = list(map(square, numbers))\n",
    "\n",
    "# Print the result\n",
    "print(squared_numbers)\n",
    "\n"
   ]
  },
  {
   "cell_type": "markdown",
   "id": "513d62d6",
   "metadata": {},
   "source": [
    "3)How does the `map()` function differ from a list comprehension in Python, and when would you choose one over the other?\n"
   ]
  },
  {
   "cell_type": "raw",
   "id": "03815cc2",
   "metadata": {},
   "source": [
    "The map() function and list comprehensions in Python both provide ways to transform or manipulate elements in an iterable, but they have some differences in terms of syntax, usage, and readability. Here's how they differ, along with guidance on when to choose one over the other:"
   ]
  },
  {
   "cell_type": "raw",
   "id": "752a158a",
   "metadata": {},
   "source": [
    "\n",
    "The map() function and list comprehensions in Python both provide ways to transform or manipulate elements in an iterable, but they have some differences in terms of syntax, usage, and readability. Here's how they differ, along with guidance on when to choose one over the other:\n",
    "\n",
    "1. Syntax:\n",
    "\n",
    "map() Function: The map() function takes two arguments: a function and an iterable. It applies the function to each element in the iterable and returns a map object (an iterable) in Python 3. You typically need to convert it to a list or another iterable type to see the results.\n",
    "\n",
    "squared_numbers = map(square_function, iterable)\n",
    "\n",
    "List Comprehension: List comprehensions provide a more concise and readable way to create a new list by applying an expression to each element in an existing iterable.\n",
    "\n",
    "squared_numbers = [expression for element in iterable]\n",
    "\n",
    "\n",
    "\n",
    "2.Return Value:\n",
    "map() Function: The map() function returns a map object (an iterable) in Python 3, which you need to convert to a list or another iterable type to access the results. In Python 2, map() directly returns a list.\n",
    "\n",
    "List Comprehension: List comprehensions return a new list with the transformed elements, directly usable without further conversion.\n",
    "\n",
    "3.Usage:\n",
    "\n",
    "Use map():\n",
    "\n",
    "When you have an existing function that performs the transformation.\n",
    "When you want to apply the same function to multiple iterables simultaneously (using map(func, iterable1, iterable2, ...)).\n",
    "When you prefer lazy evaluation (Python 3) or need to work with iterables other than lists.\n",
    "\n",
    "\n",
    "The map() function and list comprehensions in Python both provide ways to transform or manipulate elements in an iterable, but they have some differences in terms of syntax, usage, and readability. Here's how they differ, along with guidance on when to choose one over the other:\n",
    "\n",
    "1. Syntax:\n",
    "\n",
    "map() Function: The map() function takes two arguments: a function and an iterable. It applies the function to each element in the iterable and returns a map object (an iterable) in Python 3. You typically need to convert it to a list or another iterable type to see the results.\n",
    "\n",
    "python\n",
    "Copy code\n",
    "squared_numbers = map(square_function, iterable)\n",
    "List Comprehension: List comprehensions provide a more concise and readable way to create a new list by applying an expression to each element in an existing iterable.\n",
    "\n",
    "python\n",
    "Copy code\n",
    "squared_numbers = [expression for element in iterable]\n",
    "2. Return Value:\n",
    "\n",
    "map() Function: The map() function returns a map object (an iterable) in Python 3, which you need to convert to a list or another iterable type to access the results. In Python 2, map() directly returns a list.\n",
    "\n",
    "List Comprehension: List comprehensions return a new list with the transformed elements, directly usable without further conversion.\n",
    "\n",
    "3. Readability:\n",
    "\n",
    "map() Function: While map() is useful for applying a specific function to an iterable, it may require defining the function separately, making the code slightly less readable.\n",
    "\n",
    "List Comprehension: List comprehensions are often considered more readable and Pythonic, especially for simple transformations, because you can see the transformation logic inline.\n",
    "\n",
    "When to Choose map() or List Comprehension:\n",
    "\n",
    "Use map():\n",
    "\n",
    "When you have an existing function that performs the transformation.\n",
    "When you want to apply the same function to multiple iterables simultaneously (using map(func, iterable1, iterable2, ...)).\n",
    "When you prefer lazy evaluation (Python 3) or need to work with iterables other than lists.\n",
    "Example:\n",
    "result = map(square, numbers)\n",
    "Use List Comprehension:\n",
    "When you want a more concise and readable way to create a new list based on an existing iterable.\n",
    "When the transformation is simple and doesn't require a separate function.\n",
    "When you want to filter elements based on a condition."
   ]
  },
  {
   "cell_type": "markdown",
   "id": "42d81094",
   "metadata": {},
   "source": [
    "4)Create a Python program that uses the `map()` function to convert a list of names to uppercase."
   ]
  },
  {
   "cell_type": "code",
   "execution_count": 11,
   "id": "9a1cd9d5",
   "metadata": {},
   "outputs": [
    {
     "name": "stdout",
     "output_type": "stream",
     "text": [
      "['SAI CHARAN', 'VAMSI', 'VANSHIKA', 'VENU']\n"
     ]
    }
   ],
   "source": [
    "# Function to convert a name to uppercase\n",
    "def uppercase(name):\n",
    "    return name.upper()\n",
    "\n",
    "# List of names\n",
    "names = [\"Sai charan\", \"Vamsi\", \"vanshika\", \"venu\"]\n",
    "\n",
    "# Use map() to apply the uppercase function to each name in the list\n",
    "uppercase_names = list(map(uppercase, names))\n",
    "\n",
    "# Print the result\n",
    "print(uppercase_names)\n"
   ]
  },
  {
   "cell_type": "markdown",
   "id": "b256f96d",
   "metadata": {},
   "source": [
    "5)Write a Python program that uses the `map()` function to calculate the length of each word in a list of strings.\n"
   ]
  },
  {
   "cell_type": "code",
   "execution_count": 12,
   "id": "384ee022",
   "metadata": {},
   "outputs": [
    {
     "name": "stdout",
     "output_type": "stream",
     "text": [
      "[5, 5, 6, 11]\n"
     ]
    }
   ],
   "source": [
    "# Function to calculate the length of a word\n",
    "def word_length(word):\n",
    "    return len(word)\n",
    "\n",
    "# List of strings\n",
    "strings = [\"Hello\", \"world\", \"Python\", \"programming\"]\n",
    "\n",
    "# Use map() to apply the word_length function to each word in the list\n",
    "word_lengths = list(map(word_length, strings))\n",
    "\n",
    "# Print the result\n",
    "print(word_lengths)\n"
   ]
  },
  {
   "cell_type": "markdown",
   "id": "dac8cbfc",
   "metadata": {},
   "source": [
    "6)How can you use the `map()` function to apply a custom function to elements of multiple lists simultaneously in Python?\n"
   ]
  },
  {
   "cell_type": "code",
   "execution_count": 13,
   "id": "a2ede0cc",
   "metadata": {},
   "outputs": [
    {
     "name": "stdout",
     "output_type": "stream",
     "text": [
      "[6, 8, 10, 12]\n"
     ]
    }
   ],
   "source": [
    "# Custom function that takes two arguments and performs some operation\n",
    "def custom_function(x, y):\n",
    "    return x + y  # Example operation (you can define your own)\n",
    "\n",
    "# Lists of elements\n",
    "list1 = [1, 2, 3, 4]\n",
    "list2 = [5, 6, 7, 8]\n",
    "\n",
    "# Use map() to apply the custom_function to corresponding elements of both lists\n",
    "result = list(map(custom_function, list1, list2))\n",
    "\n",
    "# Print the result\n",
    "print(result)\n"
   ]
  },
  {
   "cell_type": "markdown",
   "id": "99e26d82",
   "metadata": {},
   "source": [
    "7)Create a Python program that uses `map()` to convert a list of temperatures from Celsius to Fahrenheit."
   ]
  },
  {
   "cell_type": "code",
   "execution_count": 14,
   "id": "29f77680",
   "metadata": {},
   "outputs": [
    {
     "name": "stdout",
     "output_type": "stream",
     "text": [
      "[32.0, 77.0, 212.0, 14.0, 86.0]\n"
     ]
    }
   ],
   "source": [
    "# Function to convert Celsius to Fahrenheit\n",
    "def celsius_to_fahrenheit(celsius):\n",
    "    return (celsius * 9/5) + 32\n",
    "\n",
    "# List of temperatures in Celsius\n",
    "celsius_temperatures = [0, 25, 100, -10, 30]\n",
    "\n",
    "# Use map() to apply the conversion function to each temperature in the list\n",
    "fahrenheit_temperatures = list(map(celsius_to_fahrenheit, celsius_temperatures))\n",
    "\n",
    "# Print the result\n",
    "print(fahrenheit_temperatures)\n"
   ]
  },
  {
   "cell_type": "markdown",
   "id": "414944d1",
   "metadata": {},
   "source": [
    "8)Write a Python program that uses the `map()` function to round each element of a list of floating-point numbers to the nearest integer.\n",
    "\n"
   ]
  },
  {
   "cell_type": "code",
   "execution_count": 15,
   "id": "ed7ba8d7",
   "metadata": {},
   "outputs": [
    {
     "name": "stdout",
     "output_type": "stream",
     "text": [
      "[3, 3, 1, 5, 6]\n"
     ]
    }
   ],
   "source": [
    "# List of floating-point numbers\n",
    "float_numbers = [3.14, 2.718, 1.414, 4.999, 6.33]\n",
    "\n",
    "# Use map() to apply the round() function to each number in the list\n",
    "rounded_integers = list(map(round, float_numbers))\n",
    "\n",
    "# Print the result\n",
    "print(rounded_integers)\n"
   ]
  },
  {
   "cell_type": "markdown",
   "id": "ec2e7fb8",
   "metadata": {},
   "source": [
    "# Reduce :-\n"
   ]
  },
  {
   "cell_type": "markdown",
   "id": "996e2284",
   "metadata": {},
   "source": [
    "1)What is the `reduce()` function in Python, and what module should you import to use it? Provide an example of its basic usage.\n"
   ]
  },
  {
   "cell_type": "raw",
   "id": "ed228f87",
   "metadata": {},
   "source": [
    "The reduce() function in Python is a part of the functools module. It is used to apply a specified function cumulatively to the elements of an iterable. This function successively combines the elements from left to right, producing a single result.\n",
    "\n",
    "The reduce() function takes three arguments:\n",
    "\n",
    "function: The function to apply cumulatively to the elements of the iterable. This function typically takes two arguments and defines the operation to be applied to the elements.\n",
    "\n",
    "iterable: The iterable (e.g., a list) whose elements will be combined.\n",
    "\n",
    "initial (optional): An initial value to start the cumulative process. If not provided, the first two elements of the iterable are used as the initial values.\n",
    "\n",
    "The reduce() function repeatedly applies the specified function to pairs of elements from the iterable until all elements have been processed, ultimately reducing the iterable to a single value.\n",
    "\n",
    "Common use cases for reduce() include calculating cumulative values such as the product, sum, or finding the maximum/minimum value of an iterable."
   ]
  },
  {
   "cell_type": "code",
   "execution_count": 16,
   "id": "1f3784ac",
   "metadata": {},
   "outputs": [
    {
     "name": "stdout",
     "output_type": "stream",
     "text": [
      "120\n"
     ]
    }
   ],
   "source": [
    "import functools\n",
    "\n",
    "# Function to multiply two numbers\n",
    "def multiply(x, y):\n",
    "    return x * y\n",
    "\n",
    "# List of numbers\n",
    "numbers = [1, 2, 3, 4, 5]\n",
    "\n",
    "# Use reduce() to calculate the product of all numbers in the list\n",
    "result = functools.reduce(multiply, numbers)\n",
    "\n",
    "# Print the result\n",
    "print(result)\n"
   ]
  },
  {
   "cell_type": "markdown",
   "id": "cfb2afb1",
   "metadata": {},
   "source": [
    "2)Write a Python program that uses the `reduce()` function to find the product of all elements in a list.\n"
   ]
  },
  {
   "cell_type": "code",
   "execution_count": 17,
   "id": "9dfc6f1b",
   "metadata": {},
   "outputs": [
    {
     "name": "stdout",
     "output_type": "stream",
     "text": [
      "120\n"
     ]
    }
   ],
   "source": [
    "import functools\n",
    "\n",
    "# Function to multiply two numbers\n",
    "def multiply(x, y):\n",
    "    return x * y\n",
    "\n",
    "# List of numbers\n",
    "numbers = [1, 2, 3, 4, 5]\n",
    "\n",
    "# Use reduce() to calculate the product of all numbers in the list\n",
    "result = functools.reduce(multiply, numbers)\n",
    "\n",
    "# Print the result\n",
    "print(result)\n"
   ]
  },
  {
   "cell_type": "markdown",
   "id": "b60dbd76",
   "metadata": {},
   "source": [
    "3)Create a Python program that uses `reduce()` to find the maximum element in a list of numbers.\n"
   ]
  },
  {
   "cell_type": "code",
   "execution_count": 18,
   "id": "34fb4963",
   "metadata": {},
   "outputs": [
    {
     "name": "stdout",
     "output_type": "stream",
     "text": [
      "The maximum element in the list is: 67\n"
     ]
    }
   ],
   "source": [
    "import functools\n",
    "\n",
    "# Function to find the maximum of two numbers\n",
    "def find_max(x, y):\n",
    "    return x if x > y else y\n",
    "\n",
    "# List of numbers\n",
    "numbers = [12, 45, 67, 23, 9, 54, 32]\n",
    "\n",
    "# Use reduce() to find the maximum element in the list\n",
    "max_number = functools.reduce(find_max, numbers)\n",
    "\n",
    "# Print the result\n",
    "print(\"The maximum element in the list is:\", max_number)\n"
   ]
  },
  {
   "cell_type": "markdown",
   "id": "2afa7e89",
   "metadata": {},
   "source": [
    "4)How can you use the `reduce()` function to concatenate a list of strings into a single string?\n"
   ]
  },
  {
   "cell_type": "code",
   "execution_count": 19,
   "id": "15bfd274",
   "metadata": {},
   "outputs": [
    {
     "name": "stdout",
     "output_type": "stream",
     "text": [
      "Hello, world!\n"
     ]
    }
   ],
   "source": [
    "import functools\n",
    "\n",
    "# Function to concatenate two strings\n",
    "def concatenate_strings(x, y):\n",
    "    return x + y\n",
    "\n",
    "# List of strings\n",
    "strings = [\"Hello\", \", \", \"world\", \"!\"]\n",
    "\n",
    "# Use reduce() to concatenate the strings in the list\n",
    "result = functools.reduce(concatenate_strings, strings)\n",
    "\n",
    "# Print the result\n",
    "print(result)\n",
    "\n"
   ]
  },
  {
   "cell_type": "markdown",
   "id": "a3cfb99d",
   "metadata": {},
   "source": [
    "5)Write a Python program that calculates the factorial of a number using the `reduce()` function.\n"
   ]
  },
  {
   "cell_type": "code",
   "execution_count": 20,
   "id": "64732e4b",
   "metadata": {},
   "outputs": [
    {
     "name": "stdout",
     "output_type": "stream",
     "text": [
      "Enter a number: 5\n",
      "The factorial of 5 is 120\n"
     ]
    }
   ],
   "source": [
    "import functools\n",
    "\n",
    "# Function to multiply two numbers\n",
    "def multiply(x, y):\n",
    "    return x * y\n",
    "\n",
    "# Input the number for which you want to calculate the factorial\n",
    "number = int(input(\"Enter a number: \"))\n",
    "\n",
    "# Create a list of integers from 1 to the specified number\n",
    "numbers = list(range(1, number + 1))\n",
    "\n",
    "# Use reduce() to calculate the factorial\n",
    "factorial = functools.reduce(multiply, numbers, 1)\n",
    "\n",
    "# Print the result\n",
    "print(f\"The factorial of {number} is {factorial}\")\n"
   ]
  },
  {
   "cell_type": "markdown",
   "id": "a2a96eee",
   "metadata": {},
   "source": [
    "6)Create a Python program that uses `reduce()` to find the GCD (Greatest Common Divisor) of a list of numbers"
   ]
  },
  {
   "cell_type": "code",
   "execution_count": 21,
   "id": "c311d6c2",
   "metadata": {},
   "outputs": [
    {
     "name": "stdout",
     "output_type": "stream",
     "text": [
      "The GCD of the numbers is: 12\n"
     ]
    }
   ],
   "source": [
    "import functools\n",
    "import math\n",
    "\n",
    "# Function to calculate the GCD of two numbers\n",
    "def gcd(x, y):\n",
    "    return math.gcd(x, y)\n",
    "\n",
    "# List of numbers for which you want to find the GCD\n",
    "numbers = [24, 36, 48, 60, 72]\n",
    "\n",
    "# Use reduce() to calculate the GCD of the numbers in the list\n",
    "result = functools.reduce(gcd, numbers)\n",
    "\n",
    "# Print the result\n",
    "print(f\"The GCD of the numbers is: {result}\")\n"
   ]
  },
  {
   "cell_type": "markdown",
   "id": "ce4b8dbf",
   "metadata": {},
   "source": [
    "7)Write a Python program that uses the `reduce()` function to find the sum of the digits of a given number.\n"
   ]
  },
  {
   "cell_type": "code",
   "execution_count": 22,
   "id": "14cb5aeb",
   "metadata": {},
   "outputs": [
    {
     "name": "stdout",
     "output_type": "stream",
     "text": [
      "Enter a number: 123\n",
      "The sum of the digits is: 6\n"
     ]
    }
   ],
   "source": [
    "import functools\n",
    "\n",
    "# Function to add two digits together\n",
    "def add_digits(x, y):\n",
    "    return int(x) + int(y)\n",
    "\n",
    "# Input the number for which you want to find the sum of digits\n",
    "number = input(\"Enter a number: \")\n",
    "\n",
    "# Use reduce() to calculate the sum of the digits in the number\n",
    "result = functools.reduce(add_digits, number)\n",
    "\n",
    "# Print the result\n",
    "print(f\"The sum of the digits is: {result}\")\n"
   ]
  },
  {
   "cell_type": "markdown",
   "id": "7e2acb12",
   "metadata": {},
   "source": [
    "# Filter"
   ]
  },
  {
   "cell_type": "markdown",
   "id": "aa315aae",
   "metadata": {},
   "source": [
    "1)Explain the purpose of the `filter()` function in Python and provide an example of how it can be used to filter elements from an iterable."
   ]
  },
  {
   "cell_type": "raw",
   "id": "9d61bed1",
   "metadata": {},
   "source": [
    "The filter() function in Python is used to filter elements from an iterable (e.g., a list, tuple, or other iterable) based on a specified filtering condition, which is defined by a given function. It creates a new iterable containing only the elements that satisfy the condition specified by the function.\n",
    "\n",
    "Here's the basic syntax of the filter() function:\n",
    "filter(function, iterable)\n",
    "function: The function that defines the filtering condition. This function should return True for elements that you want to include in the result.\n",
    "\n",
    "iterable: The iterable containing the elements you want to filter.\n",
    "\n",
    "The filter() function applies the provided function to each element in the iterable. If the function returns True for an element, that element is included in the result; otherwise, it is excluded."
   ]
  },
  {
   "cell_type": "code",
   "execution_count": 23,
   "id": "60d46989",
   "metadata": {},
   "outputs": [
    {
     "name": "stdout",
     "output_type": "stream",
     "text": [
      "[2, 4, 6, 8, 10]\n"
     ]
    }
   ],
   "source": [
    "# Function to check if a number is even\n",
    "def is_even(x):\n",
    "    return x % 2 == 0\n",
    "\n",
    "# List of numbers\n",
    "numbers = [1, 2, 3, 4, 5, 6, 7, 8, 9, 10]\n",
    "\n",
    "# Use filter() to filter even numbers from the list\n",
    "even_numbers = list(filter(is_even, numbers))\n",
    "\n",
    "# Print the result\n",
    "print(even_numbers)\n"
   ]
  },
  {
   "cell_type": "raw",
   "id": "3d7a28a5",
   "metadata": {},
   "source": [
    "We define an is_even() function that takes a number x and checks if it's even by using the modulo operator (%). If x % 2 equals 0, it returns True; otherwise, it returns False.\n",
    "\n",
    "We have a list called numbers containing a range of numbers.\n",
    "\n",
    "We use the filter() function to apply the is_even() function to each number in the numbers list. This generates a filter object (an iterable) containing only the even numbers.\n",
    "\n",
    "We convert the filter object to a list using list() to see the results.\n",
    "\n",
    "Finally, we print the even_numbers list, which contains the even numbers from the original list.\n",
    "\n",
    "When you run this program, it will filter the even numbers from the numbers list and print the result:\n",
    "\n",
    "\n"
   ]
  },
  {
   "cell_type": "markdown",
   "id": "05860dc1",
   "metadata": {},
   "source": [
    "2)Write a Python program that uses the `filter()` function to select even numbers from a list of integers."
   ]
  },
  {
   "cell_type": "code",
   "execution_count": 24,
   "id": "a050a215",
   "metadata": {},
   "outputs": [
    {
     "name": "stdout",
     "output_type": "stream",
     "text": [
      "[2, 4, 6, 8, 10]\n"
     ]
    }
   ],
   "source": [
    "# Function to check if a number is even\n",
    "def is_even(x):\n",
    "    return x % 2 == 0\n",
    "\n",
    "# List of numbers\n",
    "numbers = [1, 2, 3, 4, 5, 6, 7, 8, 9, 10]\n",
    "\n",
    "# Use filter() to filter even numbers from the list\n",
    "even_numbers = list(filter(is_even, numbers))\n",
    "\n",
    "# Print the result\n",
    "print(even_numbers)"
   ]
  },
  {
   "cell_type": "markdown",
   "id": "dd38db6f",
   "metadata": {},
   "source": [
    "3)Create a Python program that uses the `filter()` function to select names that start with a specific letter from a list of strings."
   ]
  },
  {
   "cell_type": "code",
   "execution_count": 25,
   "id": "7437d0e9",
   "metadata": {},
   "outputs": [
    {
     "name": "stdout",
     "output_type": "stream",
     "text": [
      "Names starting with 'D': ['David']\n"
     ]
    }
   ],
   "source": [
    "# Function to filter names starting with a specific letter\n",
    "def starts_with_letter(letter, name):\n",
    "    return name.startswith(letter)\n",
    "\n",
    "# List of names\n",
    "names = [\"Alice\", \"Bob\", \"Charlie\", \"David\", \"Eve\", \"Frank\", \"Grace\"]\n",
    "\n",
    "# Specify the letter you want to filter by\n",
    "selected_letter = \"D\"\n",
    "\n",
    "# Use filter() to select names that start with the specified letter\n",
    "filtered_names = list(filter(lambda name: starts_with_letter(selected_letter, name), names))\n",
    "\n",
    "# Print the result\n",
    "print(f\"Names starting with '{selected_letter}': {filtered_names}\")\n"
   ]
  },
  {
   "cell_type": "markdown",
   "id": "6f5705f3",
   "metadata": {},
   "source": [
    "4)Write a Python program that uses the `filter()` function to select prime numbers from a list of integers.\n"
   ]
  },
  {
   "cell_type": "code",
   "execution_count": 26,
   "id": "68c26c45",
   "metadata": {},
   "outputs": [
    {
     "name": "stdout",
     "output_type": "stream",
     "text": [
      "Prime numbers: [2, 3, 5, 7, 11, 13, 17]\n"
     ]
    }
   ],
   "source": [
    "# Function to check if a number is prime\n",
    "def is_prime(n):\n",
    "    if n <= 1:\n",
    "        return False\n",
    "    if n <= 3:\n",
    "        return True\n",
    "    if n % 2 == 0 or n % 3 == 0:\n",
    "        return False\n",
    "    i = 5\n",
    "    while i * i <= n:\n",
    "        if n % i == 0 or n % (i + 2) == 0:\n",
    "            return False\n",
    "        i += 6\n",
    "    return True\n",
    "\n",
    "# List of integers\n",
    "numbers = [2, 3, 5, 7, 8, 10, 11, 13, 17]\n",
    "\n",
    "# Use filter() to select prime numbers from the list\n",
    "prime_numbers = list(filter(is_prime, numbers))\n",
    "\n",
    "# Print the result\n",
    "print(\"Prime numbers:\", prime_numbers)\n"
   ]
  },
  {
   "cell_type": "markdown",
   "id": "9da68d72",
   "metadata": {},
   "source": [
    "5)How can you use the `filter()` function to remove None values from a list in Python?\n"
   ]
  },
  {
   "cell_type": "code",
   "execution_count": 27,
   "id": "fd6d54ba",
   "metadata": {},
   "outputs": [
    {
     "name": "stdout",
     "output_type": "stream",
     "text": [
      "[1, 2, 3, 4, 5]\n"
     ]
    }
   ],
   "source": [
    "# List with None values\n",
    "values = [1, 2, None, 3, None, 4, 5, None]\n",
    "\n",
    "# Use filter() to remove None values from the list\n",
    "filtered_values = list(filter(lambda x: x is not None, values))\n",
    "\n",
    "# Print the result\n",
    "print(filtered_values)\n"
   ]
  },
  {
   "cell_type": "markdown",
   "id": "a84b9ff4",
   "metadata": {},
   "source": [
    "6)Create a Python program that uses `filter()` to select words longer than a certain length from a list of strings.\n"
   ]
  },
  {
   "cell_type": "code",
   "execution_count": 28,
   "id": "e62ec5bb",
   "metadata": {},
   "outputs": [
    {
     "name": "stdout",
     "output_type": "stream",
     "text": [
      "Words longer than 5 characters: ['banana', 'cherry', 'elderberry']\n"
     ]
    }
   ],
   "source": [
    "# Function to filter words longer than a certain length\n",
    "def is_long_word(word, min_length):\n",
    "    return len(word) > min_length\n",
    "\n",
    "# List of strings containing words\n",
    "words = [\"apple\", \"banana\", \"cherry\", \"date\", \"elderberry\", \"fig\", \"grape\"]\n",
    "\n",
    "# Specify the minimum length for words to be selected\n",
    "min_length = 5\n",
    "\n",
    "# Use filter() to select words longer than the specified length\n",
    "long_words = list(filter(lambda word: is_long_word(word, min_length), words))\n",
    "\n",
    "# Print the result\n",
    "print(f\"Words longer than {min_length} characters: {long_words}\")\n"
   ]
  },
  {
   "cell_type": "markdown",
   "id": "6a76cdb1",
   "metadata": {},
   "source": [
    "7)Write a Python program that uses the `filter()` function to select elements greater than a specified threshold from a list of values."
   ]
  },
  {
   "cell_type": "code",
   "execution_count": 29,
   "id": "4df53b17",
   "metadata": {},
   "outputs": [
    {
     "name": "stdout",
     "output_type": "stream",
     "text": [
      "Values greater than 20: [25, 35, 45]\n"
     ]
    }
   ],
   "source": [
    "# Function to filter elements greater than a threshold\n",
    "def is_greater_than_threshold(value, threshold):\n",
    "    return value > threshold\n",
    "\n",
    "# List of values\n",
    "values = [15, 25, 10, 35, 5, 45, 20]\n",
    "\n",
    "# Specify the threshold for filtering\n",
    "threshold = 20\n",
    "\n",
    "# Use filter() to select elements greater than the specified threshold\n",
    "selected_values = list(filter(lambda value: is_greater_than_threshold(value, threshold), values))\n",
    "\n",
    "# Print the result\n",
    "print(f\"Values greater than {threshold}: {selected_values}\")\n"
   ]
  },
  {
   "cell_type": "markdown",
   "id": "2b1c2e27",
   "metadata": {},
   "source": [
    "# Recursion"
   ]
  },
  {
   "cell_type": "markdown",
   "id": "16f81746",
   "metadata": {},
   "source": [
    "1)Explain the concept of recursion in Python. How does it differ from iteration?\n"
   ]
  },
  {
   "cell_type": "markdown",
   "id": "22fa5bf5",
   "metadata": {},
   "source": [
    "Recursion and iteration are two fundamental concepts in computer programming used to solve problems that involve repetition. They both allow you to execute a block of code repeatedly, but they do so in different ways. Here's an explanation of both concepts and how they differ:\n",
    "\n",
    "Recursion:\n",
    "\n",
    "Recursion is a programming technique in which a function calls itself to solve a problem. It breaks down a problem into smaller, similar subproblems and continues solving those subproblems until it reaches a base case, which is a simple, non-recursive scenario where the function returns a result directly. Recursive functions consist of two parts: the base case and the recursive case.\n",
    "\n",
    "Here's a simple example of a recursive function to calculate the factorial of a number in Python:\n",
    "\n",
    "python\n",
    "Copy code\n",
    "def factorial(n):\n",
    "    if n == 0:       # Base case\n",
    "        return 1\n",
    "    else:            # Recursive case\n",
    "        return n * factorial(n - 1)\n",
    "In this example, factorial(n) calls itself with a smaller value n - 1 in the recursive case until n reaches 0 (the base case). The base case prevents the function from calling itself indefinitely and provides a result to build upon.\n",
    "\n",
    "Iteration:\n",
    "\n",
    "Iteration, on the other hand, is a repetitive process where a block of code is executed repeatedly for a fixed number of times or until a certain condition is met. It relies on loops, such as for and while loops, to iterate through a sequence of values or perform a specific action repeatedly.\n",
    "\n",
    "Here's an example of a for loop to calculate the factorial of a number in Python:\n",
    "\n",
    "python\n",
    "Copy code\n",
    "def factorial(n):\n",
    "    result = 1\n",
    "    for i in range(1, n + 1):\n",
    "        result *= i\n",
    "    return result\n",
    "In this example, the for loop iterates through a range of values from 1 to n, accumulating the factorial result in the result variable.\n",
    "\n",
    "Differences:\n",
    "\n",
    "Approach: Recursion uses a divide-and-conquer approach, breaking down a problem into smaller subproblems, while iteration directly specifies the repetition using loops.\n",
    "\n",
    "Termination: Recursion relies on base cases to terminate the recursive calls, while iteration relies on loop conditions to terminate.\n",
    "\n",
    "Stack: Recursive functions typically use the call stack to keep track of function calls, which can lead to stack overflow errors for very deep recursion. Iteration, in contrast, usually doesn't have this issue.\n",
    "\n",
    "Readability: Recursion can be elegant and concise for certain problems but may be harder to understand for some programmers. Iteration is often more straightforward and is the default choice for many simple looping tasks.\n",
    "\n",
    "In summary, recursion and iteration are both techniques for solving repetitive problems, but they differ in their approach\n",
    "\n",
    "\n"
   ]
  },
  {
   "cell_type": "markdown",
   "id": "c2206d69",
   "metadata": {},
   "source": [
    "2)Write a Python program to calculate the factorial of a number using recursion.\n"
   ]
  },
  {
   "cell_type": "code",
   "execution_count": 31,
   "id": "99f790f5",
   "metadata": {},
   "outputs": [
    {
     "name": "stdout",
     "output_type": "stream",
     "text": [
      "Enter a non-negative integer: 9\n",
      "The factorial of 9 is 362880\n"
     ]
    }
   ],
   "source": [
    "# Recursive function to calculate factorial\n",
    "def factorial(n):\n",
    "    if n == 0:  # Base case: factorial of 0 is 1\n",
    "        return 1\n",
    "    else:\n",
    "        return n * factorial(n - 1)\n",
    "\n",
    "# Input: Get the number from the user\n",
    "num = int(input(\"Enter a non-negative integer: \"))\n",
    "\n",
    "# Check for valid input\n",
    "if num < 0:\n",
    "    print(\"Factorial is not defined for negative numbers.\")\n",
    "else:\n",
    "    result = factorial(num)\n",
    "    print(f\"The factorial of {num} is {result}\")\n"
   ]
  },
  {
   "cell_type": "markdown",
   "id": "7b6ef3e9",
   "metadata": {},
   "source": [
    "3)Create a recursive Python function to find the nth Fibonacci number.\n"
   ]
  },
  {
   "cell_type": "code",
   "execution_count": 32,
   "id": "33f9b838",
   "metadata": {},
   "outputs": [
    {
     "name": "stdout",
     "output_type": "stream",
     "text": [
      "Enter a non-negative integer (n): 8\n",
      "The 8th Fibonacci number is 21\n"
     ]
    }
   ],
   "source": [
    "# Recursive function to find the nth Fibonacci number\n",
    "def fibonacci(n):\n",
    "    if n <= 0:\n",
    "        return 0\n",
    "    elif n == 1:\n",
    "        return 1\n",
    "    else:\n",
    "        return fibonacci(n - 1) + fibonacci(n - 2)\n",
    "\n",
    "# Input: Get the value of n from the user\n",
    "n = int(input(\"Enter a non-negative integer (n): \"))\n",
    "\n",
    "# Check for valid input\n",
    "if n < 0:\n",
    "    print(\"Fibonacci sequence is not defined for negative n.\")\n",
    "else:\n",
    "    result = fibonacci(n)\n",
    "    print(f\"The {n}th Fibonacci number is {result}\")\n"
   ]
  },
  {
   "cell_type": "markdown",
   "id": "398d37cf",
   "metadata": {},
   "source": [
    "4)Write a recursive Python function to calculate the sum of all elements in a list.\n"
   ]
  },
  {
   "cell_type": "code",
   "execution_count": 33,
   "id": "3014583a",
   "metadata": {},
   "outputs": [
    {
     "name": "stdout",
     "output_type": "stream",
     "text": [
      "Enter a list of numbers separated by spaces: 12 5 6 3 9\n",
      "The sum of the elements in the list is: 35\n"
     ]
    }
   ],
   "source": [
    "# Recursive function to calculate the sum of elements in a list\n",
    "def list_sum(arr):\n",
    "    if len(arr) == 0:\n",
    "        return 0\n",
    "    else:\n",
    "        return arr[0] + list_sum(arr[1:])\n",
    "\n",
    "# Input: Get a list of numbers from the user\n",
    "numbers = input(\"Enter a list of numbers separated by spaces: \").split()\n",
    "\n",
    "# Convert input strings to integers\n",
    "numbers = [int(num) for num in numbers]\n",
    "\n",
    "# Calculate the sum using the recursive function\n",
    "result = list_sum(numbers)\n",
    "\n",
    "# Print the result\n",
    "print(f\"The sum of the elements in the list is: {result}\")\n"
   ]
  },
  {
   "cell_type": "markdown",
   "id": "760df058",
   "metadata": {},
   "source": [
    "5)How can you prevent a recursive function from running indefinitely, causing a stack overflow error?\n"
   ]
  },
  {
   "cell_type": "raw",
   "id": "7830a3b4",
   "metadata": {},
   "source": [
    "Preventing a recursive function from running indefinitely and causing a stack overflow error is essential for writing safe and efficient code. You can take several measures to control the recursion and ensure it terminates correctly:\n",
    "\n",
    "1.Base Case: Always define a base case or multiple base cases in your recursive function. The base case is a condition under which the recursion stops. When the base case is met, the function should return a result directly without making a recursive call.\n",
    "\n",
    "2.Progress Toward Base Case: Ensure that in each recursive call, you make progress toward the base case. This means that the input should get closer to the base case with each recursive call. For example, if you're calculating the factorial of a number, you should decrement the number in each recursive call until it reaches 0.\n",
    "\n",
    "3. Test with Small Inputs: Before using a recursive function with large inputs, test it with small inputs to ensure it behaves as expected and doesn't run indefinitely.\n",
    "\n",
    "4. Limit Recursion Depth: In Python, you can set a maximum recursion depth using the `sys.setrecursionlimit(limit)` function from the `sys` module. However, it's not recommended to rely on this as a primary way to control recursion because it can lead to crashes if the limit is exceeded.\n",
    "\n",
    "5. Use Iteration: In some cases, you can rewrite a recursive algorithm using iteration (loops) to avoid the risk of stack overflow errors altogether. Iterative solutions often use less memory and are more efficient for large inputs.\n",
    "\n",
    "6.Tail Recursion: If your programming language supports tail recursion optimization (Python does not), you can use tail recursion to optimize recursive calls. In tail recursion, the recursive call is the last operation in the function and doesn't require additional memory on the call stack.\n",
    "\n",
    "7.Memoization: In certain recursive algorithms, you can improve performance by implementing memoization, which involves caching intermediate results to avoid redundant calculations. This technique is commonly used in dynamic programming problems.\n",
    "\n",
    "8.Dynamic Programming: Consider using dynamic programming techniques to solve problems that can be optimized with tabulation (bottom-up) rather than recursion. Dynamic programming often provides better control over memory usage.\n",
    "\n",
    "9.Test with Large Inputs: If you expect your recursive function to handle large inputs, test it with progressively larger inputs to check for performance and memory issues.\n"
   ]
  },
  {
   "cell_type": "markdown",
   "id": "61c5fb5e",
   "metadata": {},
   "source": [
    "6)Create a recursive Python function to find the greatest common divisor (GCD) of two numbers using the Euclidean algorithm.\n"
   ]
  },
  {
   "cell_type": "code",
   "execution_count": 34,
   "id": "bcffb9ea",
   "metadata": {},
   "outputs": [
    {
     "name": "stdout",
     "output_type": "stream",
     "text": [
      "Enter the first number: 5\n",
      "Enter the second number: 25\n",
      "The GCD of 5 and 25 is 5\n"
     ]
    }
   ],
   "source": [
    "# Recursive function to find the GCD of two numbers using the Euclidean algorithm\n",
    "def gcd(a, b):\n",
    "    if b == 0:\n",
    "        return a\n",
    "    else:\n",
    "        return gcd(b, a % b)\n",
    "\n",
    "# Input: Get two numbers from the user\n",
    "num1 = int(input(\"Enter the first number: \"))\n",
    "num2 = int(input(\"Enter the second number: \"))\n",
    "\n",
    "# Calculate the GCD using the recursive function\n",
    "result = gcd(num1, num2)\n",
    "\n",
    "# Print the result\n",
    "print(f\"The GCD of {num1} and {num2} is {result}\")\n"
   ]
  },
  {
   "cell_type": "markdown",
   "id": "87c36fd9",
   "metadata": {},
   "source": [
    "7)Write a recursive Python function to reverse a string.\n"
   ]
  },
  {
   "cell_type": "code",
   "execution_count": 36,
   "id": "a3a199f5",
   "metadata": {},
   "outputs": [
    {
     "name": "stdout",
     "output_type": "stream",
     "text": [
      "Enter a string: sai\n",
      "The reversed string is: ias\n"
     ]
    }
   ],
   "source": [
    "# Recursive function to reverse a string\n",
    "def reverse_string(input_str):\n",
    "    if len(input_str) <= 1:\n",
    "        return input_str\n",
    "    else:\n",
    "        return reverse_string(input_str[1:]) + input_str[0]\n",
    "\n",
    "# Input: Get a string from the user\n",
    "input_string = input(\"Enter a string: \")\n",
    "\n",
    "# Reverse the string using the recursive function\n",
    "result = reverse_string(input_string)\n",
    "\n",
    "# Print the reversed string\n",
    "print(f\"The reversed string is: {result}\")\n"
   ]
  },
  {
   "cell_type": "markdown",
   "id": "1f850ece",
   "metadata": {},
   "source": [
    "8)Create a recursive Python function to calculate the power of a number (x^n).\n"
   ]
  },
  {
   "cell_type": "code",
   "execution_count": 37,
   "id": "48974a46",
   "metadata": {},
   "outputs": [
    {
     "name": "stdout",
     "output_type": "stream",
     "text": [
      "Enter the base (x): 10\n",
      "Enter the exponent (n): 2\n",
      "10.0^2 = 100.0\n"
     ]
    }
   ],
   "source": [
    "# Recursive function to calculate the power of a number (x^n)\n",
    "def power(x, n):\n",
    "    if n == 0:\n",
    "        return 1\n",
    "    elif n < 0:\n",
    "        return 1 / power(x, -n)\n",
    "    else:\n",
    "        return x * power(x, n - 1)\n",
    "\n",
    "# Input: Get the base (x) and exponent (n) from the user\n",
    "x = float(input(\"Enter the base (x): \"))\n",
    "n = int(input(\"Enter the exponent (n): \"))\n",
    "\n",
    "# Calculate the power using the recursive function\n",
    "result = power(x, n)\n",
    "\n",
    "# Print the result\n",
    "print(f\"{x}^{n} = {result}\")\n"
   ]
  },
  {
   "cell_type": "markdown",
   "id": "3de2429d",
   "metadata": {},
   "source": [
    "9)Write a recursive Python function to find all permutations of a given string.\n"
   ]
  },
  {
   "cell_type": "code",
   "execution_count": 39,
   "id": "5f7229e2",
   "metadata": {},
   "outputs": [
    {
     "name": "stdout",
     "output_type": "stream",
     "text": [
      "Enter a string: sai\n",
      "All permutations of the string:\n",
      "sai\n",
      "sia\n",
      "asi\n",
      "ais\n",
      "isa\n",
      "ias\n"
     ]
    }
   ],
   "source": [
    "# Recursive function to find all permutations of a string\n",
    "def get_permutations(input_str):\n",
    "    # Base case: If the string is empty or has only one character, return the string itself as the only permutation\n",
    "    if len(input_str) <= 1:\n",
    "        return [input_str]\n",
    "\n",
    "    # List to store permutations\n",
    "    permutations = []\n",
    "\n",
    "    for char in input_str:\n",
    "        # Remove the current character from the string\n",
    "        remaining_chars = input_str.replace(char, \"\", 1)\n",
    "\n",
    "        # Recursively find permutations of the remaining characters\n",
    "        sub_permutations = get_permutations(remaining_chars)\n",
    "\n",
    "        # Add the current character to the beginning of each sub-permutation\n",
    "        for sub_permutation in sub_permutations:\n",
    "            permutations.append(char + sub_permutation)\n",
    "\n",
    "    return permutations\n",
    "\n",
    "# Input: Get a string from the user\n",
    "input_string = input(\"Enter a string: \")\n",
    "\n",
    "# Get all permutations using the recursive function\n",
    "result = get_permutations(input_string)\n",
    "\n",
    "# Print the permutations\n",
    "print(\"All permutations of the string:\")\n",
    "for perm in result:\n",
    "    print(perm)\n"
   ]
  },
  {
   "cell_type": "markdown",
   "id": "b3eca09e",
   "metadata": {},
   "source": [
    "10)Write a recursive Python function to check if a string is a palindrome.\n"
   ]
  },
  {
   "cell_type": "code",
   "execution_count": 40,
   "id": "f95d7fed",
   "metadata": {},
   "outputs": [
    {
     "name": "stdout",
     "output_type": "stream",
     "text": [
      "Enter a string: saias\n",
      "'saias' is a palindrome.\n"
     ]
    }
   ],
   "source": [
    "# Recursive function to check if a string is a palindrome\n",
    "def is_palindrome(input_str):\n",
    "    # Base case: If the string is empty or has only one character, it's a palindrome\n",
    "    if len(input_str) <= 1:\n",
    "        return True\n",
    "    \n",
    "    # Check if the first and last characters are the same\n",
    "    if input_str[0] != input_str[-1]:\n",
    "        return False\n",
    "    \n",
    "    # Recursively check if the substring without the first and last characters is a palindrome\n",
    "    return is_palindrome(input_str[1:-1])\n",
    "\n",
    "# Input: Get a string from the user\n",
    "input_string = input(\"Enter a string: \")\n",
    "\n",
    "# Check if the string is a palindrome using the recursive function\n",
    "if is_palindrome(input_string):\n",
    "    print(f\"'{input_string}' is a palindrome.\")\n",
    "else:\n",
    "    print(f\"'{input_string}' is not a palindrome.\")\n"
   ]
  },
  {
   "cell_type": "markdown",
   "id": "2c0f2132",
   "metadata": {},
   "source": [
    "11)Create a recursive Python function to generate all possible combinations of a list of elements.\n"
   ]
  },
  {
   "cell_type": "code",
   "execution_count": 1,
   "id": "f8dda159",
   "metadata": {},
   "outputs": [
    {
     "name": "stdout",
     "output_type": "stream",
     "text": [
      "[1, 2, 3]\n",
      "[1, 2]\n",
      "[1, 3]\n",
      "[1]\n",
      "[2, 3]\n",
      "[2]\n",
      "[3]\n",
      "[]\n"
     ]
    }
   ],
   "source": [
    "def generate_combinations(arr):\n",
    "    def dfs(index, current_combination):\n",
    "        if index == len(arr):\n",
    "            combinations.append(current_combination[:])\n",
    "            return\n",
    "\n",
    "        # Include the current element in the combination\n",
    "        current_combination.append(arr[index])\n",
    "        dfs(index + 1, current_combination)\n",
    "\n",
    "        # Exclude the current element from the combination\n",
    "        current_combination.pop()\n",
    "        dfs(index + 1, current_combination)\n",
    "\n",
    "    combinations = []\n",
    "    dfs(0, [])\n",
    "    return combinations\n",
    "\n",
    "# Example usage:\n",
    "elements = [1, 2, 3]\n",
    "combinations = generate_combinations(elements)\n",
    "for combo in combinations:\n",
    "    print(combo)\n"
   ]
  },
  {
   "cell_type": "markdown",
   "id": "1834dfe6",
   "metadata": {},
   "source": [
    "# Basics of Functions:\n"
   ]
  },
  {
   "cell_type": "markdown",
   "id": "ed34299d",
   "metadata": {},
   "source": [
    "1)What is a function in Python, and why is it used?\n"
   ]
  },
  {
   "cell_type": "raw",
   "id": "aa552eae",
   "metadata": {},
   "source": [
    "In Python, a function is a named block of code that performs a specific task or set of tasks. Functions are a fundamental concept in programming and are used to encapsulate and organize code into reusable and modular units. Here are some key aspects of functions in Python and why they are used:\n",
    "\n",
    "Modularity: Functions allow you to break down a complex program into smaller, more manageable parts. Each function can be designed to perform a specific task, making your code easier to read, understand, and maintain.\n",
    "\n",
    "Reuse: Once you define a function, you can use it multiple times throughout your program without duplicating the code. This promotes code reuse and helps avoid redundancy.\n",
    "\n",
    "Abstraction: Functions provide an abstraction layer. When you use a function, you don't need to know the details of how it accomplishes its task; you only need to know what inputs it requires and what output it provides. This abstraction simplifies the use of complex functionality.\n",
    "\n",
    "Organization: Functions help organize your code into a structured hierarchy. You can have a main program that calls various functions to perform specific tasks, making the codebase more organized and easier to maintain.\n",
    "\n",
    "Readability: Well-named functions make your code more readable and self-documenting. Functions with descriptive names can convey the purpose of the code they encapsulate, making it easier for others (and your future self) to understand.\n",
    "\n",
    "Testing and Debugging: Functions facilitate testing and debugging. You can isolate and test individual functions, making it easier to identify and fix issues in your code.\n",
    "\n",
    "Scoping: Functions define their own scope, which means variables declared within a function are typically only accessible within that function. This helps prevent naming conflicts and unintended side effects."
   ]
  },
  {
   "cell_type": "markdown",
   "id": "d04884fe",
   "metadata": {},
   "source": [
    "2)How do you define a function in Python? Provide an example.\n"
   ]
  },
  {
   "cell_type": "code",
   "execution_count": 3,
   "id": "169d7af7",
   "metadata": {},
   "outputs": [
    {
     "name": "stdout",
     "output_type": "stream",
     "text": [
      "8\n"
     ]
    }
   ],
   "source": [
    "'''def function_name(parameters):\n",
    "    # Function body (code block)\n",
    "    # ...\n",
    "    return result  # Optional return statement'''\n",
    "def add_numbers(a, b):\n",
    "    result = a + b\n",
    "    return result\n",
    "result = add_numbers(3, 5)\n",
    "print(result)  # This will print 8\n"
   ]
  },
  {
   "cell_type": "markdown",
   "id": "a1faceca",
   "metadata": {},
   "source": [
    "3)Explain the difference between a function definition and a function call.\n"
   ]
  },
  {
   "cell_type": "raw",
   "id": "14fad894",
   "metadata": {},
   "source": [
    "In Python, a function definition and a function call are two distinct concepts, each serving a different purpose:\n",
    "\n",
    "1. Function Definition:\n",
    "   - A function definition is the creation or declaration of a function.\n",
    "   - It is where you define the function's name, parameters (if any), and the code that the function will execute when it is called.\n",
    "   - The function definition begins with the `def` keyword followed by the function name, parameter list (enclosed in parentheses), a colon `:`, and the function body.\n",
    "   - The function body is indented and contains the code that specifies what the function does.\n",
    "   - A function definition does not execute any code; it merely defines the function and its behavior.\n",
    "   - It is a one-time step, and you typically define functions at the beginning of your Python script or module.\n",
    "\n",
    "   Example of a function definition:\n",
    "   ```python\n",
    "   def add_numbers(a, b):\n",
    "       result = a + b\n",
    "       return result\n",
    "   ```\n",
    "\n",
    "2. Function Call:\n",
    "   - A function call is the act of invoking or executing a previously defined function with specific arguments.\n",
    "   - It is where you provide values (arguments) for the function's parameters, and the function executes the code defined in its body using those arguments.\n",
    "   - A function call consists of the function name followed by parentheses containing the arguments (if any) needed for the function.\n",
    "   - When a function is called, it executes its code block, processes the provided arguments, and may return a result.\n",
    "   - Function calls can be made multiple times, and each call can provide different arguments, allowing for reusability of the function.\n",
    "\n",
    "   Example of a function call:\n",
    "   ```python\n",
    "   result = add_numbers(3, 5)\n",
    "   ```\n",
    "\n",
    "In summary, a function definition defines what a function does and how it behaves, while a function call is the actual execution of that function with specific input values. Functions are defined once and can be called multiple times with different arguments to perform the specified tasks."
   ]
  },
  {
   "cell_type": "markdown",
   "id": "d37491d5",
   "metadata": {},
   "source": [
    "4)Write a Python program that defines a function to calculate the sum of two numbers and then calls the function.\n"
   ]
  },
  {
   "cell_type": "code",
   "execution_count": 4,
   "id": "045a49d7",
   "metadata": {},
   "outputs": [
    {
     "name": "stdout",
     "output_type": "stream",
     "text": [
      "Enter the first number: 6\n",
      "Enter the second number: 8\n",
      "The sum of 6.0 and 8.0 is: 14.0\n"
     ]
    }
   ],
   "source": [
    "# Define a function to calculate the sum of two numbers\n",
    "def calculate_sum(a, b):\n",
    "    result = a + b\n",
    "    return result\n",
    "\n",
    "# Prompt the user to enter two numbers\n",
    "num1 = float(input(\"Enter the first number: \"))\n",
    "num2 = float(input(\"Enter the second number: \"))\n",
    "\n",
    "# Call the calculate_sum function and store the result\n",
    "sum_of_numbers = calculate_sum(num1, num2)\n",
    "\n",
    "# Display the result\n",
    "print(f\"The sum of {num1} and {num2} is: {sum_of_numbers}\")\n"
   ]
  },
  {
   "cell_type": "markdown",
   "id": "77214bc2",
   "metadata": {},
   "source": [
    "5)What is a function signature, and what information does it typically include?\n"
   ]
  },
  {
   "cell_type": "raw",
   "id": "56a5f921",
   "metadata": {},
   "source": [
    "A function signature, also known as a function declaration, provides information about a function's interface without detailing its implementation. It typically includes the following information:\n",
    "\n",
    "1.Function Name: This is the name by which the function is called in your code. It is used to identify and reference the function.\n",
    "\n",
    "2.Parameters (or Arguments): These are the inputs that the function expects when it is called. Parameters are enclosed in parentheses and separated by commas. Each parameter typically has a name and a data type (although Python is dynamically typed, so you don't specify data types explicitly in the signature).\n",
    "\n",
    "3.Return Type: This specifies the data type of the value that the function will return after it is executed. In some programming languages, return types are explicitly declared (e.g., `int`, `float`, `string`), while in dynamically typed languages like Python, you don't specify a return type explicitly.\n",
    "\n",
    "4.Modifiers (optional):In some programming languages, you can include modifiers like `public`, `private`, `static`, etc., to specify the accessibility and behavior of the function. Python doesn't use these modifiers in function signatures; instead, it relies on naming conventions (e.g., `_private_function`) and module-level attributes.\n",
    "\n",
    "Here's an example of a function signature in Python:\n",
    "\n",
    "```python\n",
    "def calculate_sum(a, b):\n",
    "```\n",
    "\n",
    "In this function signature:\n",
    "- `calculate_sum` is the function name.\n",
    "- `(a, b)` are the parameters (inputs) that the function expects. In this case, it takes two parameters, `a` and `b`.\n",
    "- Python does not explicitly specify a return type in the function signature, as it dynamically determines the return type based on the actual values returned in the function's body.\n",
    "\n",
    "The function signature provides a clear and concise summary of how the function should be used and what inputs it requires, making it easier for developers to work with the function in their code."
   ]
  },
  {
   "cell_type": "markdown",
   "id": "b95fd0bf",
   "metadata": {},
   "source": [
    "6)Create a Python function that takes two arguments and returns their product."
   ]
  },
  {
   "cell_type": "code",
   "execution_count": 5,
   "id": "6f49ec67",
   "metadata": {},
   "outputs": [
    {
     "name": "stdout",
     "output_type": "stream",
     "text": [
      "15\n"
     ]
    }
   ],
   "source": [
    "def calculate_product(a, b):\n",
    "    result = a * b\n",
    "    return result\n",
    "result = calculate_product(5, 3)\n",
    "print(result)  # This will print 15\n"
   ]
  },
  {
   "cell_type": "markdown",
   "id": "362ba467",
   "metadata": {},
   "source": [
    "# Function Parameters and Arguments"
   ]
  },
  {
   "cell_type": "markdown",
   "id": "d38bf094",
   "metadata": {},
   "source": [
    "1)Explain the concepts of formal parameters and actual arguments in Python functions.\n"
   ]
  },
  {
   "cell_type": "raw",
   "id": "22df396d",
   "metadata": {},
   "source": [
    "In Python functions, formal parameters and actual arguments are essential concepts that relate to how information is passed into and used within a function.\n",
    "\n",
    "1. Formal Parameters (Parameters):\n",
    "   - Formal parameters are placeholders for values that a function expects to receive when it is called. These placeholders are defined in the function's parameter list, within the parentheses following the function name in its definition.\n",
    "   - Formal parameters act as local variables within the function's scope, representing the values that will be passed into the function when it is invoked.\n",
    "   - These parameters are used to specify what kind of input the function expects and how it will use that input to perform its task.\n",
    "   - Formal parameters are essentially variables that exist only within the function's body and are initialized with the values provided as actual arguments when the function is called.\n",
    "   - You can have multiple formal parameters, and each one should be separated by commas.\n",
    "\n",
    "   Example:\n",
    "   ```python\n",
    "   def add_numbers(x, y):\n",
    "       result = x + y\n",
    "       return result\n",
    "   ```\n",
    "   In this example, `x` and `y` are formal parameters.\n",
    "\n",
    "2. Actual Arguments (Arguments):\n",
    "   - Actual arguments, often simply referred to as \"arguments,\" are the real values or expressions that are provided when calling a function.\n",
    "   - These are the values that are passed into the function to replace the formal parameters defined in the function's signature.\n",
    "   - Actual arguments can be constants, variables, expressions, or even the results of other function calls.\n",
    "   - The number and type of actual arguments must match the formal parameters defined in the function's signature.\n",
    "\n",
    "   Example:\n",
    "   ```python\n",
    "   result = add_numbers(3, 5)\n",
    "   ```\n",
    "   In this example, `3` and `5` are actual arguments that correspond to the `x` and `y` formal parameters in the `add_numbers` function.\n",
    "\n",
    "In summary, formal parameters are placeholders for values defined in a function's parameter list, while actual arguments are the real values or expressions provided when the function is called, and they are used to replace the formal parameters within the function's body. The purpose of formal parameters is to define what input the function expects, and actual arguments are used to supply those inputs when invoking the function."
   ]
  },
  {
   "cell_type": "markdown",
   "id": "28a35db1",
   "metadata": {},
   "source": [
    "2)Write a Python program that defines a function with default argument values.\n"
   ]
  },
  {
   "cell_type": "code",
   "execution_count": 6,
   "id": "5f0ae187",
   "metadata": {},
   "outputs": [
    {
     "name": "stdout",
     "output_type": "stream",
     "text": [
      "Hi, Alice!\n",
      "Hello, Bob!\n"
     ]
    }
   ],
   "source": [
    "def greet(name, greeting=\"Hello\"):\n",
    "    \"\"\"This function greets a person with a default greeting.\"\"\"\n",
    "    message = f\"{greeting}, {name}!\"\n",
    "    return message\n",
    "\n",
    "# Calling the function with both arguments\n",
    "result1 = greet(\"Alice\", \"Hi\")\n",
    "print(result1)  # Output: \"Hi, Alice!\"\n",
    "\n",
    "# Calling the function with only one argument\n",
    "result2 = greet(\"Bob\")\n",
    "print(result2)  # Output: \"Hello, Bob!\"\n"
   ]
  },
  {
   "cell_type": "markdown",
   "id": "fa3e6353",
   "metadata": {},
   "source": [
    "3)How do you use keyword arguments in Python function calls? Provide an example.\n"
   ]
  },
  {
   "cell_type": "code",
   "execution_count": 7,
   "id": "c5500f4e",
   "metadata": {},
   "outputs": [
    {
     "name": "stdout",
     "output_type": "stream",
     "text": [
      "Name: Alice\n",
      "Age: 30\n",
      "City: New York\n"
     ]
    }
   ],
   "source": [
    "def print_person_info(name, age, city):\n",
    "    print(f\"Name: {name}\")\n",
    "    print(f\"Age: {age}\")\n",
    "    print(f\"City: {city}\")\n",
    "\n",
    "# Using keyword arguments to call the function\n",
    "print_person_info(name=\"Alice\", age=30, city=\"New York\")"
   ]
  },
  {
   "cell_type": "raw",
   "id": "39215d78",
   "metadata": {},
   "source": [
    "In Python, you can use keyword arguments in function calls to specify arguments by their parameter names, rather than relying on the order of the parameters in the function definition. This can make your code more readable and less error-prone, especially when dealing with functions that have many arguments.\n",
    "\n",
    "To use keyword arguments, you provide the parameter name followed by an equal sign (`=`) and the value you want to assign to that parameter. Here's an example:\n",
    "\n",
    "```python\n",
    "def print_person_info(name, age, city):\n",
    "    print(f\"Name: {name}\")\n",
    "    print(f\"Age: {age}\")\n",
    "    print(f\"City: {city}\")\n",
    "\n",
    "# Using keyword arguments to call the function\n",
    "print_person_info(name=\"Alice\", age=30, city=\"New York\")\n",
    "```\n",
    "\n",
    "In this example:\n",
    "\n",
    "- The `print_person_info` function takes three parameters: `name`, `age`, and `city`.\n",
    "\n",
    "- When calling the function, we use keyword arguments to specify the values for these parameters. We explicitly mention the parameter names (`name=`, `age=`, and `city=`) followed by the values we want to pass.\n",
    "\n",
    "- The output of the function call will display the information in the order specified in the function call, not necessarily in the order of the parameters in the function definition.\n",
    "\n",
    "Using keyword arguments in function calls offers several advantages:\n",
    "\n",
    "1.Clarity: It makes the code more readable because it's clear which value corresponds to which parameter, especially for functions with many parameters.\n",
    "\n",
    "2.Flexibility: You can specify arguments in any order, which can be particularly useful when you have optional parameters or when you want to omit some of them.\n",
    "\n",
    "3.Self-Documentation: Keyword arguments can serve as a form of self-documentation, helping to convey the purpose of each argument.\n",
    "\n",
    "4.Reduced Errors: It reduces the risk of passing values to the wrong parameters, as the parameter names are explicitly provided.\n",
    "\n",
    "You can mix keyword arguments with positional arguments (arguments passed in the traditional way, without specifying parameter names) as long as all positional arguments appear before keyword arguments."
   ]
  },
  {
   "cell_type": "markdown",
   "id": "1b19e068",
   "metadata": {},
   "source": [
    "4)Create a Python function that accepts a variable number of arguments and calculates their sum."
   ]
  },
  {
   "cell_type": "code",
   "execution_count": 8,
   "id": "f0f46ad5",
   "metadata": {},
   "outputs": [
    {
     "name": "stdout",
     "output_type": "stream",
     "text": [
      "6\n",
      "150\n"
     ]
    }
   ],
   "source": [
    "def calculate_sum(*args):\n",
    "    total = 0\n",
    "    for num in args:\n",
    "        total += num\n",
    "    return total\n",
    "\n",
    "# Example usage:\n",
    "result1 = calculate_sum(1, 2, 3)\n",
    "result2 = calculate_sum(10, 20, 30, 40, 50)\n",
    "\n",
    "print(result1)  # Output: 6\n",
    "print(result2)  # Output: 150\n"
   ]
  },
  {
   "cell_type": "markdown",
   "id": "974b0e7e",
   "metadata": {},
   "source": [
    "5)What is the purpose of the `*args` and `**kwargs` syntax in function parameter lists?\n"
   ]
  },
  {
   "cell_type": "raw",
   "id": "bd91ff22",
   "metadata": {},
   "source": [
    "The *args and **kwargs syntax in function parameter lists in Python serve the purpose of allowing functions to accept a variable number of arguments, making your code more flexible and versatile. These constructs are often used when you want to create functions that can handle different numbers of inputs or when you want to pass multiple arguments without explicitly defining all of them in the function's parameter list.\n",
    "\n",
    "*args (Arbitrary Positional Arguments):\n",
    "\n",
    "The *args syntax is used to collect a variable number of non-keyword (positional) arguments into a tuple.\n",
    "It allows you to pass any number of arguments to a function, and those arguments are accessible within the function as elements in the args tuple.\n",
    "This is useful when you want to create functions that can accept an arbitrary number of values, such as when calculating the sum of numbers, as shown in the previous response."
   ]
  },
  {
   "cell_type": "code",
   "execution_count": 9,
   "id": "784761e4",
   "metadata": {},
   "outputs": [],
   "source": [
    "def calculate_sum(*args):\n",
    "    total = 0\n",
    "    for num in args:\n",
    "        total += num\n",
    "    return total\n"
   ]
  },
  {
   "cell_type": "raw",
   "id": "f26d96ea",
   "metadata": {},
   "source": [
    "**kwargs (Arbitrary Keyword Arguments):\n",
    "\n",
    "The **kwargs syntax is used to collect a variable number of keyword arguments (key-value pairs) into a dictionary.\n",
    "It allows you to pass named arguments to a function, and those arguments are accessible within the function as key-value pairs in the kwargs dictionary.\n",
    "This is useful when you want to create functions that can accept optional parameters or a flexible set of named arguments."
   ]
  },
  {
   "cell_type": "code",
   "execution_count": 10,
   "id": "c1195e78",
   "metadata": {},
   "outputs": [],
   "source": [
    "def print_info(**kwargs):\n",
    "    for key, value in kwargs.items():\n",
    "        print(f\"{key}: {value}\")\n"
   ]
  },
  {
   "cell_type": "markdown",
   "id": "c4a5b446",
   "metadata": {},
   "source": [
    "# Return Values and Scoping"
   ]
  },
  {
   "cell_type": "markdown",
   "id": "6b1679b2",
   "metadata": {},
   "source": [
    "1)Describe the role of the `return` statement in Python functions and provide examples."
   ]
  },
  {
   "cell_type": "raw",
   "id": "3a60d432",
   "metadata": {},
   "source": [
    "Returning Values: The return statement is used to return a value or expression from a function. This value is the result of the function's computation, and it can be used in the calling code.\n",
    "\n",
    "Exiting the Function: When a return statement is encountered in a function, it immediately terminates the execution of that function, and control is returned to the calling code. No further code within the function is executed after the return statement.\n",
    "\n",
    "Multiple Returns: A function can have multiple return statements at different points in its code. The one that is executed depends on the condition or path taken during the function's execution.\n",
    "\n",
    "Here are some examples to illustrate the use of the return statement in Python functions:"
   ]
  },
  {
   "cell_type": "code",
   "execution_count": 11,
   "id": "c388fa34",
   "metadata": {},
   "outputs": [
    {
     "name": "stdout",
     "output_type": "stream",
     "text": [
      "8\n"
     ]
    }
   ],
   "source": [
    "def add_numbers(a, b):\n",
    "    result = a + b\n",
    "    return result\n",
    "\n",
    "sum_result = add_numbers(3, 5)\n",
    "print(sum_result)  # Output: 8\n"
   ]
  },
  {
   "cell_type": "markdown",
   "id": "b6d0f6fa",
   "metadata": {},
   "source": [
    "2)Explain the concept of variable scope in Python, including local and global variables.\n"
   ]
  },
  {
   "cell_type": "raw",
   "id": "b99efbd5",
   "metadata": {},
   "source": [
    "Local Variables:\n",
    "\n",
    "Local variables are variables that are defined within a specific function or block of code.\n",
    "They have limited scope and are only accessible within the function or block where they are defined.\n",
    "Local variables are created when the function is called and destroyed when the function exits.\n",
    "Attempting to access a local variable outside of its scope (e.g., in another function or at the global level) will result in a NameError."
   ]
  },
  {
   "cell_type": "code",
   "execution_count": 12,
   "id": "2f369f5a",
   "metadata": {},
   "outputs": [
    {
     "name": "stdout",
     "output_type": "stream",
     "text": [
      "10\n"
     ]
    }
   ],
   "source": [
    "def example_function():\n",
    "    local_var = 10\n",
    "    print(local_var)\n",
    "\n",
    "example_function()  # Prints 10\n",
    "# Attempting to access local_var here would result in an error\n"
   ]
  },
  {
   "cell_type": "raw",
   "id": "5ca01f7e",
   "metadata": {},
   "source": [
    "Global Variables:\n",
    "\n",
    "Global variables are defined at the top level of a Python script or module, outside of any function or block.\n",
    "They have a broader scope and can be accessed from anywhere within the script or module, including within functions.\n",
    "Global variables persist throughout the entire execution of the program.\n",
    "However, if you want to modify a global variable from within a function, you need to use the global keyword to indicate that you are referring to the global variable, not creating a new local variable with the same name."
   ]
  },
  {
   "cell_type": "code",
   "execution_count": 13,
   "id": "911f92c5",
   "metadata": {},
   "outputs": [
    {
     "name": "stdout",
     "output_type": "stream",
     "text": [
      "25\n"
     ]
    }
   ],
   "source": [
    "global_var = 20\n",
    "\n",
    "def example_function():\n",
    "    global global_var\n",
    "    global_var += 5\n",
    "    print(global_var)\n",
    "\n",
    "example_function()  # Prints 25\n"
   ]
  },
  {
   "cell_type": "raw",
   "id": "ec4b80f4",
   "metadata": {},
   "source": [
    "Variable Shadowing:\n",
    "\n",
    "Variable shadowing occurs when a local variable has the same name as a global variable, causing the local variable to \"shadow\" or hide the global variable within the local scope.\n",
    "In such cases, the local variable takes precedence over the global variable within the function's scope.\n",
    "To access the global variable in a shadowed scenario, you can use the global keyword to explicitly reference the global variable."
   ]
  },
  {
   "cell_type": "code",
   "execution_count": 14,
   "id": "fe7ff70e",
   "metadata": {},
   "outputs": [
    {
     "name": "stdout",
     "output_type": "stream",
     "text": [
      "15\n",
      "30\n"
     ]
    }
   ],
   "source": [
    "global_var = 30\n",
    "\n",
    "def example_function():\n",
    "    global_var = 15  # Local variable shadows the global variable\n",
    "    print(global_var)  # Prints 15\n",
    "\n",
    "example_function()\n",
    "print(global_var)  # Prints 30 (global variable)\n",
    "\n"
   ]
  },
  {
   "cell_type": "markdown",
   "id": "78efbfe0",
   "metadata": {},
   "source": [
    "3)Write a Python program that demonstrates the use of global variables within functions.\n"
   ]
  },
  {
   "cell_type": "code",
   "execution_count": 15,
   "id": "bb01e7f9",
   "metadata": {},
   "outputs": [
    {
     "name": "stdout",
     "output_type": "stream",
     "text": [
      "Initial global_var value: 20\n",
      "Modified global_var value: 25\n",
      "Accessing global_var: 25\n"
     ]
    }
   ],
   "source": [
    "# Define a global variable\n",
    "global_var = 20\n",
    "\n",
    "# Function to modify the global variable\n",
    "def modify_global_variable():\n",
    "    global global_var  # Use the 'global' keyword to indicate we're referring to the global variable\n",
    "    global_var += 5\n",
    "\n",
    "# Function to access the global variable without modification\n",
    "def access_global_variable():\n",
    "    print(\"Accessing global_var:\", global_var)\n",
    "\n",
    "# Display the initial value of the global variable\n",
    "print(\"Initial global_var value:\", global_var)\n",
    "\n",
    "# Call the function to modify the global variable\n",
    "modify_global_variable()\n",
    "\n",
    "# Display the modified value of the global variable\n",
    "print(\"Modified global_var value:\", global_var)\n",
    "\n",
    "# Call the function to access the global variable without modification\n",
    "access_global_variable()\n"
   ]
  },
  {
   "cell_type": "markdown",
   "id": "e7267093",
   "metadata": {},
   "source": [
    "4)Create a Python function that calculates the factorial of a number and returns it.\n"
   ]
  },
  {
   "cell_type": "code",
   "execution_count": 16,
   "id": "6315f0b3",
   "metadata": {},
   "outputs": [
    {
     "name": "stdout",
     "output_type": "stream",
     "text": [
      "The factorial of 5 is 120\n"
     ]
    }
   ],
   "source": [
    "def factorial(n):\n",
    "    if n == 0:\n",
    "        return 1  # Base case: factorial of 0 is 1\n",
    "    else:\n",
    "        return n * factorial(n - 1)\n",
    "\n",
    "# Example usage:\n",
    "number = 5\n",
    "result = factorial(number)\n",
    "print(f\"The factorial of {number} is {result}\")\n"
   ]
  },
  {
   "cell_type": "markdown",
   "id": "68f59a68",
   "metadata": {},
   "source": [
    "5)How can you access variables defined outside a function from within the function?"
   ]
  },
  {
   "cell_type": "raw",
   "id": "9ee2da54",
   "metadata": {},
   "source": [
    "In Python, you can access variables defined outside a function from within the function by treating those variables as global variables. To do this, you need to use the global keyword to indicate that you want to work with the global variable, rather than creating a new local variable with the same name within the function."
   ]
  },
  {
   "cell_type": "code",
   "execution_count": 17,
   "id": "5f669f35",
   "metadata": {},
   "outputs": [
    {
     "name": "stdout",
     "output_type": "stream",
     "text": [
      "Accessing global_var: 20\n"
     ]
    }
   ],
   "source": [
    "# Define a global variable\n",
    "global_var = 20\n",
    "\n",
    "# Function that accesses the global variable\n",
    "def access_global_variable():\n",
    "    global global_var  # Use the 'global' keyword to indicate we're referring to the global variable\n",
    "    print(\"Accessing global_var:\", global_var)\n",
    "\n",
    "# Call the function\n",
    "access_global_variable()\n"
   ]
  },
  {
   "cell_type": "raw",
   "id": "dd6fe51f",
   "metadata": {},
   "source": [
    "We define a global variable named global_var with an initial value of 20.\n",
    "\n",
    "We create a function access_global_variable() that uses the global keyword to indicate that we want to access the global variable global_var.\n",
    "\n",
    "Inside the function, we can read the value of the global variable, and in this case, we print it to the console.\n",
    "\n",
    "Finally, we call the access_global_variable() function, which accesses and prints the value of the global variable.\n",
    "\n",
    "When you run this program, it will successfully access the global variable from within the function, and you'll see the value 20 printed to the console."
   ]
  },
  {
   "cell_type": "markdown",
   "id": "890928e5",
   "metadata": {},
   "source": [
    "# Lambda Functions and Higher-Order Functions:\n",
    "\n"
   ]
  },
  {
   "cell_type": "markdown",
   "id": "670c828e",
   "metadata": {},
   "source": [
    "1)What are lambda functions in Python, and when are they typically used?\n"
   ]
  },
  {
   "cell_type": "raw",
   "id": "88041343",
   "metadata": {},
   "source": [
    "In Python, a lambda function is a small, anonymous, and inline function that can have any number of arguments but can only have one expression. Lambda functions are defined using the lambda keyword followed by a list of arguments, a colon :, and an expression. The result of the expression is the return value of the lambda function. Lambda functions are also known as anonymous functions because they don't have a name.\n",
    "The syntax for defining a lambda function is as follows:\n",
    "lambda arguments: expression"
   ]
  },
  {
   "cell_type": "code",
   "execution_count": 18,
   "id": "9b104abe",
   "metadata": {},
   "outputs": [
    {
     "name": "stdout",
     "output_type": "stream",
     "text": [
      "8\n"
     ]
    }
   ],
   "source": [
    "add = lambda x, y: x + y\n",
    "result = add(3, 5)\n",
    "print(result)  # Output: 8\n"
   ]
  },
  {
   "cell_type": "markdown",
   "id": "514479b9",
   "metadata": {},
   "source": [
    "Short, One-off Functions: Lambda functions are useful when you need a simple function for a short task that doesn't warrant defining a separate named function. Instead of writing a full def statement, you can use a lambda function inline.\n",
    "\n",
    "As Arguments to Higher-Order Functions: Lambda functions are often used as arguments to higher-order functions like map(), filter(), and sorted(). They allow you to define custom behavior for these functions without the need for a separate function definition."
   ]
  },
  {
   "cell_type": "code",
   "execution_count": 20,
   "id": "b1152b13",
   "metadata": {},
   "outputs": [
    {
     "name": "stdout",
     "output_type": "stream",
     "text": [
      "[1, 4, 9, 16, 25]\n"
     ]
    }
   ],
   "source": [
    "numbers = [1, 2, 3, 4, 5]\n",
    "squared = list(map(lambda x: x**2, numbers))\n",
    "print(squared)"
   ]
  },
  {
   "cell_type": "markdown",
   "id": "32540530",
   "metadata": {},
   "source": [
    "2)Write a Python program that uses lambda functions to sort a list of tuples based on the second element.\n"
   ]
  },
  {
   "cell_type": "code",
   "execution_count": 21,
   "id": "26d2708d",
   "metadata": {},
   "outputs": [
    {
     "name": "stdout",
     "output_type": "stream",
     "text": [
      "('Bob', 18)\n",
      "('David', 22)\n",
      "('Alice', 25)\n",
      "('Charlie', 30)\n"
     ]
    }
   ],
   "source": [
    "# List of tuples\n",
    "students = [(\"Alice\", 25), (\"Bob\", 18), (\"Charlie\", 30), (\"David\", 22)]\n",
    "\n",
    "# Sort the list based on the second element of each tuple using a lambda function\n",
    "sorted_students = sorted(students, key=lambda student: student[1])\n",
    "\n",
    "# Print the sorted list\n",
    "for student in sorted_students:\n",
    "    print(student)\n"
   ]
  },
  {
   "cell_type": "markdown",
   "id": "07d5b56f",
   "metadata": {},
   "source": [
    "3)Explain the concept of higher-order functions in Python, and provide an example.\n"
   ]
  },
  {
   "cell_type": "raw",
   "id": "b55f67fc",
   "metadata": {},
   "source": [
    "In Python, a higher-order function is a function that takes one or more functions as arguments or returns a function as its result. Essentially, it treats functions as first-class citizens, allowing you to manipulate and use them as data, just like you would with other types of values such as integers or strings. Higher-order functions enable a more functional programming style, which is a paradigm that emphasizes the use of functions and their composition to solve problems.\n",
    "\n",
    "Here are two common scenarios in which higher-order functions are used:\n",
    "\n",
    "Functions as Arguments: In this case, a higher-order function takes one or more functions as arguments and uses them to perform some computation or transformation on data.\n",
    "\n",
    "Functions as Return Values: A higher-order function can also create and return functions as its result, allowing you to generate functions dynamically based on certain conditions or parameters.\n",
    "\n",
    "Here's an example of a higher-order function that takes another function as an argument:\n",
    "\n",
    "python\n",
    "Copy code\n",
    "# Higher-order function: applies a given function to each element of a list\n",
    "def apply_to_each(func, lst):\n",
    "    result = []\n",
    "    for item in lst:\n",
    "        result.append(func(item))\n",
    "    return result\n",
    "\n",
    "# Example functions\n",
    "def square(x):\n",
    "    return x ** 2\n",
    "\n",
    "def double(x):\n",
    "    return x * 2\n",
    "\n",
    "# Applying the higher-order function with different functions\n",
    "numbers = [1, 2, 3, 4, 5]\n",
    "squared_numbers = apply_to_each(square, numbers)\n",
    "doubled_numbers = apply_to_each(double, numbers)\n",
    "\n",
    "print(\"Original numbers:\", numbers)\n",
    "print(\"Squared numbers:\", squared_numbers)\n",
    "print(\"Doubled numbers:\", doubled_numbers)\n",
    "In this example:\n",
    "\n",
    "The apply_to_each function is a higher-order function that takes two arguments: a function func and a list lst.\n",
    "\n",
    "Inside apply_to_each, it iterates through the elements of the list and applies the provided function func to each element, collecting the results in a new list (result).\n",
    "\n",
    "We define two example functions, square and double, which perform different operations on a number.\n",
    "\n",
    "We then apply the apply_to_each function with these example functions on a list of numbers, resulting in two new lists: squared_numbers and doubled_numbers.\n",
    "\n",
    "Finally, we print the original numbers and the results of applying the different functions to them.\n",
    "\n",
    "Higher-order functions like apply_to_each make your code more flexible and expressive by allowing you to pass behavior (functions) as arguments, promoting code reusability and composability. They are a fundamental concept in functional programming and play a significant role in Python's support for this programming paradigm."
   ]
  },
  {
   "cell_type": "code",
   "execution_count": 22,
   "id": "b7c31ef9",
   "metadata": {},
   "outputs": [
    {
     "name": "stdout",
     "output_type": "stream",
     "text": [
      "Original numbers: [1, 2, 3, 4, 5]\n",
      "Squared numbers: [1, 4, 9, 16, 25]\n",
      "Doubled numbers: [2, 4, 6, 8, 10]\n"
     ]
    }
   ],
   "source": [
    "# Higher-order function: applies a given function to each element of a list\n",
    "def apply_to_each(func, lst):\n",
    "    result = []\n",
    "    for item in lst:\n",
    "        result.append(func(item))\n",
    "    return result\n",
    "\n",
    "# Example functions\n",
    "def square(x):\n",
    "    return x ** 2\n",
    "\n",
    "def double(x):\n",
    "    return x * 2\n",
    "\n",
    "# Applying the higher-order function with different functions\n",
    "numbers = [1, 2, 3, 4, 5]\n",
    "squared_numbers = apply_to_each(square, numbers)\n",
    "doubled_numbers = apply_to_each(double, numbers)\n",
    "\n",
    "print(\"Original numbers:\", numbers)\n",
    "print(\"Squared numbers:\", squared_numbers)\n",
    "print(\"Doubled numbers:\", doubled_numbers)\n"
   ]
  },
  {
   "cell_type": "markdown",
   "id": "7ed96243",
   "metadata": {},
   "source": [
    "4)Create a Python function that takes a list of numbers and a function as arguments, applying the function to each element in the list."
   ]
  },
  {
   "cell_type": "code",
   "execution_count": 23,
   "id": "7943db81",
   "metadata": {},
   "outputs": [
    {
     "name": "stdout",
     "output_type": "stream",
     "text": [
      "Squared numbers: [1, 4, 9, 16, 25]\n",
      "Doubled numbers: [2, 4, 6, 8, 10]\n"
     ]
    }
   ],
   "source": [
    "def apply_function_to_list(func, numbers):\n",
    "    \"\"\"\n",
    "    Apply the given function to each element in the list of numbers.\n",
    "    \n",
    "    Args:\n",
    "        func (function): The function to apply.\n",
    "        numbers (list): The list of numbers.\n",
    "\n",
    "    Returns:\n",
    "        list: A new list containing the results of applying the function to each element.\n",
    "    \"\"\"\n",
    "    result = []\n",
    "    for number in numbers:\n",
    "        result.append(func(number))\n",
    "    return result\n",
    "\n",
    "# Example functions\n",
    "def square(x):\n",
    "    return x ** 2\n",
    "\n",
    "def double(x):\n",
    "    return x * 2\n",
    "\n",
    "# Example usage:\n",
    "numbers = [1, 2, 3, 4, 5]\n",
    "\n",
    "# Apply the square function to each element in the list\n",
    "squared_numbers = apply_function_to_list(square, numbers)\n",
    "print(\"Squared numbers:\", squared_numbers)\n",
    "\n",
    "# Apply the double function to each element in the list\n",
    "doubled_numbers = apply_function_to_list(double, numbers)\n",
    "print(\"Doubled numbers:\", doubled_numbers)\n"
   ]
  },
  {
   "cell_type": "markdown",
   "id": "9e931894",
   "metadata": {},
   "source": [
    "# Built-in Functions:\n"
   ]
  },
  {
   "cell_type": "markdown",
   "id": "0870a3f5",
   "metadata": {},
   "source": [
    "1)Describe the role of built-in functions like `len()`, `max()`, and `min()` in Python.\n"
   ]
  },
  {
   "cell_type": "raw",
   "id": "957cf613",
   "metadata": {},
   "source": [
    "Built-in functions like `len()`, `max()`, and `min()` in Python are fundamental tools that provide valuable functionality for common operations on data structures and sequences. These functions serve the following roles:\n",
    "\n",
    "1. `len()`:\n",
    "   - The `len()` function is used to determine the length or the number of elements in an iterable (e.g., strings, lists, tuples, dictionaries, sets).\n",
    "   - It returns an integer representing the number of elements or characters in the iterable.\n",
    "   - Example:\n",
    "     ```python\n",
    "     text = \"Hello, World!\"\n",
    "     length = len(text)  # Returns 13\n",
    "     ```\n",
    "\n",
    "2. `max()`:\n",
    "   - The `max()` function is used to find the maximum value within an iterable (e.g., numbers in a list, characters in a string) or among multiple arguments.\n",
    "   - It returns the maximum value found.\n",
    "   - Example with a list of numbers:\n",
    "     ```python\n",
    "     numbers = [10, 5, 8, 20, 3]\n",
    "     maximum = max(numbers)  # Returns 20\n",
    "     ```\n",
    "   - Example with multiple arguments:\n",
    "     ```python\n",
    "     max_value = max(30, 15, 42, 25)  # Returns 42\n",
    "     ```\n",
    "\n",
    "3. `min()`:\n",
    "   - The `min()` function is used to find the minimum value within an iterable or among multiple arguments, similar to `max()`.\n",
    "   - It returns the minimum value found.\n",
    "   - Example with a list of numbers:\n",
    "     ```python\n",
    "     numbers = [10, 5, 8, 20, 3]\n",
    "     minimum = min(numbers)  # Returns 3\n",
    "     ```\n",
    "   - Example with multiple arguments:\n",
    "     ```python\n",
    "     min_value = min(30, 15, 42, 25)  # Returns 15\n",
    "     ```\n",
    "\n",
    "These built-in functions simplify common tasks when working with data by providing a convenient and efficient way to calculate lengths, find maximum and minimum values, and perform various other operations. They are frequently used in Python programming for tasks ranging from data analysis to general-purpose scripting."
   ]
  },
  {
   "cell_type": "markdown",
   "id": "5bad05b4",
   "metadata": {},
   "source": [
    "2)Write a Python program that uses the `map()` function to apply a function to each element of a list.\n"
   ]
  },
  {
   "cell_type": "code",
   "execution_count": 25,
   "id": "8fdcf973",
   "metadata": {},
   "outputs": [
    {
     "name": "stdout",
     "output_type": "stream",
     "text": [
      "Original numbers: [1, 2, 3, 4, 5]\n",
      "Squared numbers: [1, 4, 9, 16, 25]\n"
     ]
    }
   ],
   "source": [
    "# Define a function to square a number\n",
    "def square(x):\n",
    "    return x ** 2\n",
    "\n",
    "# List of numbers\n",
    "numbers = [1, 2, 3, 4, 5]\n",
    "\n",
    "# Use the map() function to apply the square function to each element in the list\n",
    "squared_numbers = map(square, numbers)\n",
    "\n",
    "# Convert the result to a list (optional, as map() returns a map object in Python 3)\n",
    "squared_numbers_list = list(squared_numbers)\n",
    "\n",
    "# Print the original list and the squared numbers\n",
    "print(\"Original numbers:\", numbers)\n",
    "print(\"Squared numbers:\", squared_numbers_list)\n"
   ]
  },
  {
   "cell_type": "markdown",
   "id": "a10a21ca",
   "metadata": {},
   "source": [
    "3)How does the `filter()` function work in Python, and when would you use it?\n"
   ]
  },
  {
   "cell_type": "code",
   "execution_count": 26,
   "id": "6f5dc753",
   "metadata": {},
   "outputs": [
    {
     "name": "stdout",
     "output_type": "stream",
     "text": [
      "Original numbers: [1, 2, 3, 4, 5, 6, 7, 8, 9, 10]\n",
      "Even numbers: [2, 4, 6, 8, 10]\n"
     ]
    }
   ],
   "source": [
    "# Define a function to filter even numbers\n",
    "def is_even(x):\n",
    "    return x % 2 == 0\n",
    "\n",
    "# List of numbers\n",
    "numbers = [1, 2, 3, 4, 5, 6, 7, 8, 9, 10]\n",
    "\n",
    "# Use the filter() function to filter even numbers from the list\n",
    "even_numbers = filter(is_even, numbers)\n",
    "\n",
    "# Convert the result to a list (optional, as filter() returns a filter object in Python 3)\n",
    "even_numbers_list = list(even_numbers)\n",
    "\n",
    "# Print the original list and the filtered even numbers\n",
    "print(\"Original numbers:\", numbers)\n",
    "print(\"Even numbers:\", even_numbers_list)\n"
   ]
  },
  {
   "cell_type": "raw",
   "id": "292f1d4f",
   "metadata": {},
   "source": [
    "The filter() function in Python is used to filter elements from an iterable (e.g., a list, tuple, or other iterable) based on a specified condition or function. It creates a new iterable containing only the elements for which the condition or function returns True.\n",
    "\n",
    "The syntax for filter() is as follows:\n",
    "filter(function, iterable)\n",
    "function: A function that defines the condition for filtering. This function should return True for elements that should be included in the result.\n",
    "\n",
    "iterable: The iterable (e.g., a list, tuple, or other iterable) from which elements are filtered.\n",
    "\n",
    "Here's how the filter() function works:\n",
    "\n",
    "The filter() function iterates through each element in the provided iterable.\n",
    "\n",
    "For each element, it calls the specified function with the element as an argument.\n",
    "\n",
    "If the function returns True for an element, that element is included in the result.\n",
    "\n",
    "If the function returns False for an element, that element is excluded from the result.\n",
    "\n",
    "The filter() function returns an iterable (usually a filter object, which can be converted to a list) containing the filtered elements."
   ]
  },
  {
   "cell_type": "markdown",
   "id": "0f9a6855",
   "metadata": {},
   "source": [
    "4)Create a Python program that uses the `reduce()` function to find the product of all elements in a list.\n"
   ]
  },
  {
   "cell_type": "code",
   "execution_count": 27,
   "id": "cbb9951d",
   "metadata": {},
   "outputs": [
    {
     "name": "stdout",
     "output_type": "stream",
     "text": [
      "Original numbers: [1, 2, 3, 4, 5]\n",
      "Product: 120\n"
     ]
    }
   ],
   "source": [
    "# Import the reduce function from the functools module\n",
    "from functools import reduce\n",
    "\n",
    "# Define a function to calculate the product of two numbers\n",
    "def multiply(x, y):\n",
    "    return x * y\n",
    "\n",
    "# List of numbers\n",
    "numbers = [1, 2, 3, 4, 5]\n",
    "\n",
    "# Use the reduce() function to find the product of all elements in the list\n",
    "product = reduce(multiply, numbers)\n",
    "\n",
    "# Print the original list and the product\n",
    "print(\"Original numbers:\", numbers)\n",
    "print(\"Product:\", product)\n"
   ]
  },
  {
   "cell_type": "markdown",
   "id": "91a2bbd3",
   "metadata": {},
   "source": [
    "# Function Documentation and Best Practices"
   ]
  },
  {
   "cell_type": "markdown",
   "id": "71103ab2",
   "metadata": {},
   "source": [
    "1)Explain the purpose of docstrings in Python functions and how to write them.\n"
   ]
  },
  {
   "cell_type": "raw",
   "id": "35b55c73",
   "metadata": {},
   "source": [
    "Docstrings (short for \"documentation strings\") in Python are used to provide documentation and descriptions for functions, classes, modules, and methods. They serve as a way to document the purpose, usage, and behavior of the code you write. Properly documented code is easier to understand and maintain, making it valuable for both developers and users of your code.\n",
    "\n",
    "Here's the purpose of docstrings in Python functions and how to write them:\n",
    "\n",
    "**Purpose of Docstrings:**\n",
    "\n",
    "1. **Documentation:** Docstrings serve as human-readable documentation that explains what a function does, what parameters it accepts, what it returns, and any other relevant information. This makes it easier for others (or yourself) to understand how to use the function correctly.\n",
    "\n",
    "2. **Auto-Generated Documentation:** Docstrings can be automatically extracted by documentation generation tools like Sphinx to generate documentation in various formats (HTML, PDF, etc.). This is particularly useful when creating documentation for libraries or larger codebases.\n",
    "\n",
    "3. **Interactive Help:** Python's built-in `help()` function and various integrated development environments (IDEs) can display docstrings interactively. When you call `help(function_name)`, Python displays the docstring to provide information about the function.\n",
    "\n",
    "**Writing Docstrings:**\n",
    "\n",
    "Python docstrings are enclosed in triple quotes (`\"\"\"`) and placed immediately after the function or method definition. There are conventions for the content and format of docstrings. Typically, a docstring should include the following:\n",
    "\n",
    "- A brief one-line summary of what the function does.\n",
    "- Detailed descriptions of function parameters, specifying their types, purposes, and default values (if any).\n",
    "- Information about the return value, specifying its type and any special conditions.\n",
    "- Additional notes, examples, or usage details.\n",
    "\n",
    "Here's an example of a Python function with a docstring:\n",
    "\n",
    "```python\n",
    "def add(a, b):\n",
    "    \"\"\"\n",
    "    This function adds two numbers.\n",
    "\n",
    "    Args:\n",
    "        a (int): The first number.\n",
    "        b (int): The second number.\n",
    "\n",
    "    Returns:\n",
    "        int: The sum of a and b.\n",
    "\n",
    "    Example:\n",
    "        >>> add(2, 3)\n",
    "        5\n",
    "    \"\"\"\n",
    "    return a + b\n",
    "```\n",
    "\n",
    "In this example:\n",
    "\n",
    "- The docstring is enclosed in triple quotes (`\"\"\"`) and provides a concise one-line summary of the function's purpose.\n",
    "\n",
    "- It includes a description of the function's parameters (`a` and `b`) along with their types (`int`) and purpose.\n",
    "\n",
    "- It describes the return value of the function (`int`) and the conditions under which it is returned.\n",
    "\n",
    "- An example of how to use the function is included in the docstring, illustrating how the function can be called and what it returns.\n",
    "\n",
    "By following these conventions and providing clear and informative docstrings, you make your code more understandable and user-friendly for both yourself and other developers who may use or work on your code."
   ]
  },
  {
   "cell_type": "code",
   "execution_count": 28,
   "id": "92690085",
   "metadata": {},
   "outputs": [],
   "source": [
    "def add(a, b):\n",
    "    \"\"\"\n",
    "    This function adds two numbers.\n",
    "\n",
    "    Args:\n",
    "        a (int): The first number.\n",
    "        b (int): The second number.\n",
    "\n",
    "    Returns:\n",
    "        int: The sum of a and b.\n",
    "\n",
    "    Example:\n",
    "        >>> add(2, 3)\n",
    "        5\n",
    "    \"\"\"\n",
    "    return a + b\n"
   ]
  },
  {
   "cell_type": "code",
   "execution_count": 29,
   "id": "2d138070",
   "metadata": {},
   "outputs": [
    {
     "data": {
      "text/plain": [
       "5"
      ]
     },
     "execution_count": 29,
     "metadata": {},
     "output_type": "execute_result"
    }
   ],
   "source": [
    "add(2,3)"
   ]
  },
  {
   "cell_type": "markdown",
   "id": "83e7c40a",
   "metadata": {},
   "source": [
    "2)Describe some best practices for naming functions and variables in Python, including naming conventions and guidelines."
   ]
  },
  {
   "cell_type": "raw",
   "id": "ec1e4d2c",
   "metadata": {},
   "source": [
    "Naming functions and variables in Python following best practices and conventions is crucial for writing clean, readable, and maintainable code. Here are some best practices and guidelines for naming functions and variables in Python:\n",
    "\n",
    "1. Use Descriptive Names:\n",
    "   - Choose meaningful and descriptive names that indicate the purpose or functionality of the function or variable.\n",
    "   - Avoid single-letter or overly cryptic names (e.g., `x`, `temp`, `var1`).\n",
    "\n",
    "2. Follow PEP 8:\n",
    "   - PEP 8 is Python's official style guide, which provides conventions for naming functions and variables. Adhering to PEP 8 makes your code more consistent and readable.\n",
    "   - Function names should be lowercase with words separated by underscores (snake_case).\n",
    "   - Variable names should also be lowercase with words separated by underscores.\n",
    "   - Constants (variables that should not be modified) should be in ALL_CAPS with underscores separating words.\n",
    "   - For module-level variables and functions, use a single underscore prefix (e.g., `_private_function`).\n",
    "\n",
    "3. Use Verb-Noun Naming for Functions:\n",
    "   - Name functions using a verb-noun format that indicates the action followed by the object or subject of the action. For example, `calculate_total`, `validate_input`, `get_data`.\n",
    "\n",
    "4. Be Consistent:\n",
    "   - Maintain consistency in naming throughout your codebase. Use the same naming conventions for similar functions and variables.\n",
    "   - Choose one convention (e.g., snake_case) and stick to it consistently.\n",
    "\n",
    "5. Avoid Reserved Keywords:\n",
    "   - Avoid using Python's reserved keywords as function or variable names. This can lead to confusion and errors.\n",
    "   - You can check the list of reserved keywords using `import keyword` and `keyword.kwlist`.\n",
    "\n",
    "6. Use Clear and Concise Names:\n",
    "   - Keep function and variable names concise while ensuring they convey their purpose. Avoid overly long names.\n",
    "   - Strike a balance between being descriptive and not excessively verbose.\n",
    "\n",
    "7. Document Your Code:\n",
    "   - Write docstrings (as described earlier) to provide clear documentation for functions and modules. Well-documented code helps others understand your code's purpose and usage.\n",
    "\n",
    "8. Avoid Ambiguity:\n",
    "   - Avoid using ambiguous or misleading names that might confuse readers. Choose names that accurately reflect the functionality.\n",
    "\n",
    "9. Use Plural Names for Collections:\n",
    "   - When naming variables that represent collections (e.g., lists, dictionaries), use plural names to indicate that they contain multiple items. For example, `users`, `tasks`, `products`.\n",
    "\n",
    "10. Follow Domain-Specific Conventions:\n",
    "    - In some cases, you may need to follow domain-specific naming conventions or industry standards to make your code more understandable within a specific context.\n",
    "\n",
    "11. Refactor as Needed:\n",
    "    - If you realize that a function or variable name could be improved for clarity, don't hesitate to refactor it. Maintaining clean and clear naming is an ongoing process.\n",
    "\n",
    "12. Use Meaningful Abbreviations Sparingly:\n",
    "    - While it's generally better to use full words for clarity, sparingly use meaningful abbreviations if they are well-known and widely accepted in your field (e.g., `HTML`, `URL`).\n",
    "\n",
    "13. Consider Internationalization:\n",
    "    - If your code might be translated to other languages, avoid using non-ASCII characters in function and variable names to ensure compatibility.\n",
    "\n",
    "By following these best practices and naming conventions, you can create code that is easier to read, maintain, and collaborate on with other developers. Consistency and clarity in naming are essential aspects of writing high-quality Python code."
   ]
  },
  {
   "cell_type": "code",
   "execution_count": null,
   "id": "44437711",
   "metadata": {},
   "outputs": [],
   "source": []
  }
 ],
 "metadata": {
  "kernelspec": {
   "display_name": "Python 3 (ipykernel)",
   "language": "python",
   "name": "python3"
  },
  "language_info": {
   "codemirror_mode": {
    "name": "ipython",
    "version": 3
   },
   "file_extension": ".py",
   "mimetype": "text/x-python",
   "name": "python",
   "nbconvert_exporter": "python",
   "pygments_lexer": "ipython3",
   "version": "3.10.9"
  }
 },
 "nbformat": 4,
 "nbformat_minor": 5
}
