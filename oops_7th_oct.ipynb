{
  "cells": [
    {
      "cell_type": "markdown",
      "metadata": {
        "id": "view-in-github",
        "colab_type": "text"
      },
      "source": [
        "<a href=\"https://colab.research.google.com/github/stepin-104624/Assignment5/blob/main/oops_7th_oct.ipynb\" target=\"_parent\"><img src=\"https://colab.research.google.com/assets/colab-badge.svg\" alt=\"Open In Colab\"/></a>"
      ]
    },
    {
      "cell_type": "code",
      "execution_count": null,
      "id": "8b6a7b1a-3ff5-4b22-be3e-d3b2d7aa7e3a",
      "metadata": {
        "id": "8b6a7b1a-3ff5-4b22-be3e-d3b2d7aa7e3a"
      },
      "outputs": [],
      "source": [
        "class a :\n",
        "\n",
        "    def test(self):\n",
        "        print(\"this test method is a part of class a\")\n",
        "\n",
        "    def test1(self):\n",
        "        print(\"this is test1 from class a \")"
      ]
    },
    {
      "cell_type": "code",
      "execution_count": null,
      "id": "8e4d306f-fdb4-47a0-a93d-597f5b21d30b",
      "metadata": {
        "id": "8e4d306f-fdb4-47a0-a93d-597f5b21d30b"
      },
      "outputs": [],
      "source": [
        "obj_a = a()"
      ]
    },
    {
      "cell_type": "code",
      "execution_count": null,
      "id": "81ef5597-cf96-4ed9-a4f6-21e2e93aca70",
      "metadata": {
        "id": "81ef5597-cf96-4ed9-a4f6-21e2e93aca70",
        "outputId": "4b41a3af-21e5-4922-f158-081e016fb4de"
      },
      "outputs": [
        {
          "name": "stdout",
          "output_type": "stream",
          "text": [
            "this test method is a part of class a\n"
          ]
        }
      ],
      "source": [
        "obj_a.test()"
      ]
    },
    {
      "cell_type": "code",
      "execution_count": null,
      "id": "11ee63d6-433d-48dc-ada0-5dd6771310ba",
      "metadata": {
        "id": "11ee63d6-433d-48dc-ada0-5dd6771310ba"
      },
      "outputs": [],
      "source": [
        "class b(a) :\n",
        "    def test1b(self):\n",
        "        print(\"this is a part of class b \")"
      ]
    },
    {
      "cell_type": "code",
      "execution_count": null,
      "id": "badaedfe-57d1-43c6-9193-e5afb0f31dbc",
      "metadata": {
        "id": "badaedfe-57d1-43c6-9193-e5afb0f31dbc"
      },
      "outputs": [],
      "source": [
        "obj_b = b()"
      ]
    },
    {
      "cell_type": "code",
      "execution_count": null,
      "id": "3ce19f61-ba8e-4050-9d4d-614adfd964c5",
      "metadata": {
        "id": "3ce19f61-ba8e-4050-9d4d-614adfd964c5",
        "outputId": "2f1ae370-6dcb-47af-8508-aec2c3da5cc7"
      },
      "outputs": [
        {
          "name": "stdout",
          "output_type": "stream",
          "text": [
            "this test method is a part of class a\n"
          ]
        }
      ],
      "source": [
        "obj_b.test()"
      ]
    },
    {
      "cell_type": "code",
      "execution_count": null,
      "id": "5e473fae-e094-4407-99df-16a04ab4c80a",
      "metadata": {
        "id": "5e473fae-e094-4407-99df-16a04ab4c80a",
        "outputId": "f731a97f-58e2-442a-d6ef-fefb11643804"
      },
      "outputs": [
        {
          "name": "stdout",
          "output_type": "stream",
          "text": [
            "this is test1 from class a \n"
          ]
        }
      ],
      "source": [
        "obj_b.test1()"
      ]
    },
    {
      "cell_type": "code",
      "execution_count": null,
      "id": "02a8f055-535f-4bc2-adc1-575445f82570",
      "metadata": {
        "id": "02a8f055-535f-4bc2-adc1-575445f82570"
      },
      "outputs": [],
      "source": [
        "obj_b."
      ]
    },
    {
      "cell_type": "code",
      "execution_count": null,
      "id": "59361cd3-c0c4-4ddd-abac-cbe3275ade5f",
      "metadata": {
        "id": "59361cd3-c0c4-4ddd-abac-cbe3275ade5f"
      },
      "outputs": [],
      "source": [
        "class lecture:\n",
        "\n",
        "    def topic(self):\n",
        "        print(\"todays class we are discussing about inheritance condept in oops\")\n",
        "\n",
        "    def timing(self):\n",
        "        print(\"timing for todays class is 9 AM IST\")\n",
        "\n",
        "    def end_time(self):\n",
        "        print(\"today i will try to end class bit early\")"
      ]
    },
    {
      "cell_type": "code",
      "execution_count": null,
      "id": "6e3dd2de-883e-4e9e-98a0-4a7089af1627",
      "metadata": {
        "id": "6e3dd2de-883e-4e9e-98a0-4a7089af1627"
      },
      "outputs": [],
      "source": [
        "class student(lecture):\n",
        "\n",
        "    def student_details(self):\n",
        "        print(\"this class will give you a student details\")"
      ]
    },
    {
      "cell_type": "code",
      "execution_count": null,
      "id": "c2ad2a89-0f29-4410-86c4-e33f47b4186d",
      "metadata": {
        "id": "c2ad2a89-0f29-4410-86c4-e33f47b4186d"
      },
      "outputs": [],
      "source": [
        "naval = student()"
      ]
    },
    {
      "cell_type": "code",
      "execution_count": null,
      "id": "38c86e7f-5560-464a-b597-c88a74819f1a",
      "metadata": {
        "id": "38c86e7f-5560-464a-b597-c88a74819f1a",
        "outputId": "c5906b06-c9d4-47e8-e13c-c2b32530b459"
      },
      "outputs": [
        {
          "name": "stdout",
          "output_type": "stream",
          "text": [
            "todays class we are discussing about inheritance condept in oops\n"
          ]
        }
      ],
      "source": [
        "naval.topic()"
      ]
    },
    {
      "cell_type": "code",
      "execution_count": null,
      "id": "02efc8a4-f995-4f85-87d2-620ccc0f61fa",
      "metadata": {
        "id": "02efc8a4-f995-4f85-87d2-620ccc0f61fa",
        "outputId": "875ef83c-e0e7-4b63-d1c6-43351e35cebf"
      },
      "outputs": [
        {
          "name": "stdout",
          "output_type": "stream",
          "text": [
            "timing for todays class is 9 AM IST\n"
          ]
        }
      ],
      "source": [
        "satish = student()\n",
        "satish.timing()"
      ]
    },
    {
      "cell_type": "code",
      "execution_count": null,
      "id": "03932972-a58b-46e5-a3f8-ffc43c84ce53",
      "metadata": {
        "id": "03932972-a58b-46e5-a3f8-ffc43c84ce53"
      },
      "outputs": [],
      "source": [
        "class teacher(student):\n",
        "    def details(self):\n",
        "        print(\"this will give you a details about teacher\")"
      ]
    },
    {
      "cell_type": "code",
      "execution_count": null,
      "id": "fff36c1b-f1e9-467e-b29f-c304aa9feec9",
      "metadata": {
        "id": "fff36c1b-f1e9-467e-b29f-c304aa9feec9",
        "outputId": "82ae276b-4c4a-482f-fb22-12d0e085b102"
      },
      "outputs": [
        {
          "name": "stdout",
          "output_type": "stream",
          "text": [
            "timing for todays class is 9 AM IST\n"
          ]
        }
      ],
      "source": [
        "sudh = teacher()\n",
        "sudh.timing()"
      ]
    },
    {
      "cell_type": "code",
      "execution_count": null,
      "id": "a5e8c94b-de62-4ef5-8eba-81259d83dd3d",
      "metadata": {
        "id": "a5e8c94b-de62-4ef5-8eba-81259d83dd3d"
      },
      "outputs": [],
      "source": [
        "class lecture:\n",
        "    def topic(self):\n",
        "        print(\"todays class we are discussing about inheritance condept in oops\")\n",
        "\n",
        "    def timing(self):\n",
        "        print(\"timing for todays class is 9 AM IST\")\n",
        "\n",
        "    def end_time(self):\n",
        "        print(\"today i will try to end class bit early\")"
      ]
    },
    {
      "cell_type": "code",
      "execution_count": null,
      "id": "2007141c-1b71-4cd4-9bed-a3cd8d851baa",
      "metadata": {
        "id": "2007141c-1b71-4cd4-9bed-a3cd8d851baa"
      },
      "outputs": [],
      "source": [
        "class student:\n",
        "\n",
        "    def student_details(self):\n",
        "        print(\"this class will give you a student details\")\n",
        "\n",
        "    def timing(self):\n",
        "        print(\"this is a timing fun from student class\")\n",
        ""
      ]
    },
    {
      "cell_type": "code",
      "execution_count": null,
      "id": "272860d3-1fac-475b-8c09-0490069224bc",
      "metadata": {
        "id": "272860d3-1fac-475b-8c09-0490069224bc"
      },
      "outputs": [],
      "source": [
        "class teacher(lecture,student):\n",
        "    def details(self):\n",
        "        print(\"this will give you a details about teacher\")"
      ]
    },
    {
      "cell_type": "code",
      "execution_count": null,
      "id": "f4a9ae16-f0e3-4a4a-a003-38773611cd2a",
      "metadata": {
        "id": "f4a9ae16-f0e3-4a4a-a003-38773611cd2a"
      },
      "outputs": [],
      "source": [
        "krish = teacher()"
      ]
    },
    {
      "cell_type": "code",
      "execution_count": null,
      "id": "6dc85f37-219e-4c72-927c-9aebb550fea9",
      "metadata": {
        "id": "6dc85f37-219e-4c72-927c-9aebb550fea9",
        "outputId": "14fd9f30-50a4-4f74-c317-2ad4f9a89ff8"
      },
      "outputs": [
        {
          "name": "stdout",
          "output_type": "stream",
          "text": [
            "timing for todays class is 9 AM IST\n"
          ]
        }
      ],
      "source": [
        "krish.timing()"
      ]
    },
    {
      "cell_type": "code",
      "execution_count": null,
      "id": "8bcbac88-9172-4a31-a191-9c4b9a1c6eac",
      "metadata": {
        "id": "8bcbac88-9172-4a31-a191-9c4b9a1c6eac",
        "outputId": "c04896a4-1fec-449d-efa4-2b2ec69d7cc5"
      },
      "outputs": [
        {
          "name": "stdout",
          "output_type": "stream",
          "text": [
            "this class will give you a student details\n"
          ]
        }
      ],
      "source": [
        "krish.student_details()"
      ]
    },
    {
      "cell_type": "markdown",
      "source": [
        "1)Bank Account Create a class representing a bank account with attributes like account number, account holder name, and balance. Implement methods to deposit and withdraw money from the account."
      ],
      "metadata": {
        "id": "CZ6E4reQu5AR"
      },
      "id": "CZ6E4reQu5AR"
    },
    {
      "cell_type": "code",
      "execution_count": 1,
      "id": "fef1683a-faa4-4d27-a0a6-7a742e512e9b",
      "metadata": {
        "id": "fef1683a-faa4-4d27-a0a6-7a742e512e9b",
        "outputId": "da8bbb45-d655-4cb9-e0cb-b9cfe214bf5d",
        "colab": {
          "base_uri": "https://localhost:8080/"
        }
      },
      "outputs": [
        {
          "output_type": "stream",
          "name": "stdout",
          "text": [
            "Account Holder: charan\n",
            "Account Number: 1432445443459\n",
            "Current Balance: $1000\n",
            "Deposit of $500 successful. Current balance is $1500.\n",
            "Account Holder: charan\n",
            "Account Number: 1432445443459\n",
            "Current Balance: $1500\n",
            "Withdrawal of $200 successful. Current balance is $1300.\n",
            "Account Holder: charan\n",
            "Account Number: 1432445443459\n",
            "Current Balance: $1300\n",
            "Insufficient funds or invalid amount for withdrawal.\n"
          ]
        }
      ],
      "source": [
        "class BankAccount:\n",
        "    def __init__(self, account_number, account_holder_name, balance=0):\n",
        "        self.account_number = account_number\n",
        "        self.account_holder_name = account_holder_name\n",
        "        self.balance = balance\n",
        "\n",
        "    def deposit(self, amount):\n",
        "        if amount > 0:\n",
        "            self.balance += amount\n",
        "            print(f\"Deposit of ${amount} successful. Current balance is ${self.balance}.\")\n",
        "        else:\n",
        "            print(\"Deposit amount should be greater than zero.\")\n",
        "\n",
        "    def withdraw(self, amount):\n",
        "        if 0 < amount <= self.balance:\n",
        "            self.balance -= amount\n",
        "            print(f\"Withdrawal of ${amount} successful. Current balance is ${self.balance}.\")\n",
        "        else:\n",
        "            print(\"Insufficient funds or invalid amount for withdrawal.\")\n",
        "\n",
        "    def display_balance(self):\n",
        "        print(f\"Account Holder: {self.account_holder_name}\")\n",
        "        print(f\"Account Number: {self.account_number}\")\n",
        "        print(f\"Current Balance: ${self.balance}\")\n",
        "\n",
        "# Example usage:\n",
        "account1 = BankAccount(\"1432445443459\", \"charan\", 1000)\n",
        "account1.display_balance()\n",
        "\n",
        "account1.deposit(500)\n",
        "account1.display_balance()\n",
        "\n",
        "account1.withdraw(200)\n",
        "account1.display_balance()\n",
        "\n",
        "account1.withdraw(2000)  # This will display an insufficient funds message.\n"
      ]
    },
    {
      "cell_type": "markdown",
      "source": [
        "2)Employee Management Create a class representing an employee with attributes like employee ID, name, and salary. Implement methods to calculate the yearly bonus and display employee details."
      ],
      "metadata": {
        "id": "iTZQmet5u_NO"
      },
      "id": "iTZQmet5u_NO"
    },
    {
      "cell_type": "code",
      "source": [
        "class Employee:\n",
        "    def __init__(self, employee_id, name, salary):\n",
        "        self.employee_id = employee_id\n",
        "        self.name = name\n",
        "        self.salary = salary\n",
        "\n",
        "    def calculate_yearly_bonus(self, bonus_percentage):\n",
        "        bonus = (bonus_percentage / 100) * self.salary\n",
        "        return bonus\n",
        "\n",
        "    def display_details(self):\n",
        "        print(f\"Employee ID: {self.employee_id}\")\n",
        "        print(f\"Name: {self.name}\")\n",
        "        print(f\"Salary: ${self.salary}\")\n",
        "\n",
        "# Example usage:\n",
        "employee1 = Employee(101, \"Alice\", 50000)\n",
        "employee1.display_details()\n",
        "\n",
        "bonus_percentage = 10  # Assuming a bonus of 10% of the salary\n",
        "yearly_bonus = employee1.calculate_yearly_bonus(bonus_percentage)\n",
        "print(f\"Yearly Bonus for {employee1.name}: ${yearly_bonus}\")\n"
      ],
      "metadata": {
        "id": "FVSR2wMpup4A",
        "outputId": "dde38c8d-ef60-4c31-84cc-e921a5d20826",
        "colab": {
          "base_uri": "https://localhost:8080/"
        }
      },
      "id": "FVSR2wMpup4A",
      "execution_count": 2,
      "outputs": [
        {
          "output_type": "stream",
          "name": "stdout",
          "text": [
            "Employee ID: 101\n",
            "Name: Alice\n",
            "Salary: $50000\n",
            "Yearly Bonus for Alice: $5000.0\n"
          ]
        }
      ]
    },
    {
      "cell_type": "markdown",
      "source": [
        "3)Vehicle Rental Create a class representing a vehicle rental system. Implement methods to rent a vehicle, return a vehicle, and display available vehicles"
      ],
      "metadata": {
        "id": "IZSMdDDHvNU1"
      },
      "id": "IZSMdDDHvNU1"
    },
    {
      "cell_type": "code",
      "source": [
        "class Vehicle:\n",
        "    def __init__(self, vehicle_id, model, is_available=True):\n",
        "        self.vehicle_id = vehicle_id\n",
        "        self.model = model\n",
        "        self.is_available = is_available\n",
        "\n",
        "class VehicleRentalSystem:\n",
        "    def __init__(self):\n",
        "        self.vehicles = []\n",
        "\n",
        "    def add_vehicle(self, vehicle):\n",
        "        self.vehicles.append(vehicle)\n",
        "\n",
        "    def rent_vehicle(self, vehicle_id):\n",
        "        for vehicle in self.vehicles:\n",
        "            if vehicle.vehicle_id == vehicle_id and vehicle.is_available:\n",
        "                vehicle.is_available = False\n",
        "                print(f\"Vehicle {vehicle_id} rented successfully.\")\n",
        "                return\n",
        "        print(\"Vehicle not available for rent or does not exist.\")\n",
        "\n",
        "    def return_vehicle(self, vehicle_id):\n",
        "        for vehicle in self.vehicles:\n",
        "            if vehicle.vehicle_id == vehicle_id and not vehicle.is_available:\n",
        "                vehicle.is_available = True\n",
        "                print(f\"Vehicle {vehicle_id} returned successfully.\")\n",
        "                return\n",
        "        print(\"Invalid vehicle ID or vehicle already available.\")\n",
        "\n",
        "    def display_available_vehicles(self):\n",
        "        available_vehicles = [vehicle for vehicle in self.vehicles if vehicle.is_available]\n",
        "        if available_vehicles:\n",
        "            print(\"Available Vehicles:\")\n",
        "            for vehicle in available_vehicles:\n",
        "                print(f\"ID: {vehicle.vehicle_id}, Model: {vehicle.model}\")\n",
        "        else:\n",
        "            print(\"No vehicles available for rent.\")\n",
        "\n",
        "# Example usage:\n",
        "vehicle1 = Vehicle(\"001\", \"SUV\")\n",
        "vehicle2 = Vehicle(\"002\", \"Sedan\")\n",
        "vehicle3 = Vehicle(\"003\", \"Truck\")\n",
        "\n",
        "rental_system = VehicleRentalSystem()\n",
        "rental_system.add_vehicle(vehicle1)\n",
        "rental_system.add_vehicle(vehicle2)\n",
        "rental_system.add_vehicle(vehicle3)\n",
        "\n",
        "rental_system.display_available_vehicles()\n",
        "\n",
        "rental_system.rent_vehicle(\"001\")\n",
        "rental_system.display_available_vehicles()\n",
        "\n",
        "rental_system.return_vehicle(\"001\")\n",
        "rental_system.display_available_vehicles()\n"
      ],
      "metadata": {
        "id": "M0roo0y8vGuO",
        "outputId": "27f48b5c-3f10-4778-d96b-7614a13b7127",
        "colab": {
          "base_uri": "https://localhost:8080/"
        }
      },
      "id": "M0roo0y8vGuO",
      "execution_count": 3,
      "outputs": [
        {
          "output_type": "stream",
          "name": "stdout",
          "text": [
            "Available Vehicles:\n",
            "ID: 001, Model: SUV\n",
            "ID: 002, Model: Sedan\n",
            "ID: 003, Model: Truck\n",
            "Vehicle 001 rented successfully.\n",
            "Available Vehicles:\n",
            "ID: 002, Model: Sedan\n",
            "ID: 003, Model: Truck\n",
            "Vehicle 001 returned successfully.\n",
            "Available Vehicles:\n",
            "ID: 001, Model: SUV\n",
            "ID: 002, Model: Sedan\n",
            "ID: 003, Model: Truck\n"
          ]
        }
      ]
    },
    {
      "cell_type": "markdown",
      "source": [
        "4)Library Catalog Create classes representing a library and a book. Implement methods to add books to the library, borrow books, and display available books."
      ],
      "metadata": {
        "id": "ja_bEFxRvWea"
      },
      "id": "ja_bEFxRvWea"
    },
    {
      "cell_type": "code",
      "source": [
        "class Book:\n",
        "    def __init__(self, book_id, title, author):\n",
        "        self.book_id = book_id\n",
        "        self.title = title\n",
        "        self.author = author\n",
        "        self.is_available = True\n",
        "\n",
        "class Library:\n",
        "    def __init__(self):\n",
        "        self.books = []\n",
        "\n",
        "    def add_book(self, book):\n",
        "        self.books.append(book)\n",
        "\n",
        "    def borrow_book(self, book_id):\n",
        "        for book in self.books:\n",
        "            if book.book_id == book_id and book.is_available:\n",
        "                book.is_available = False\n",
        "                print(f\"Book '{book.title}' by {book.author} has been borrowed.\")\n",
        "                return\n",
        "        print(\"Book not available or does not exist in the library.\")\n",
        "\n",
        "    def return_book(self, book_id):\n",
        "        for book in self.books:\n",
        "            if book.book_id == book_id and not book.is_available:\n",
        "                book.is_available = True\n",
        "                print(f\"Book '{book.title}' by {book.author} has been returned.\")\n",
        "                return\n",
        "        print(\"Invalid book ID or book already available.\")\n",
        "\n",
        "    def display_available_books(self):\n",
        "        available_books = [book for book in self.books if book.is_available]\n",
        "        if available_books:\n",
        "            print(\"Available Books:\")\n",
        "            for book in available_books:\n",
        "                print(f\"ID: {book.book_id}, Title: '{book.title}', Author: {book.author}\")\n",
        "        else:\n",
        "            print(\"No books available in the library.\")\n",
        "\n",
        "# Example usage:\n",
        "book1 = Book(1, \"Data Scientist\", \"PWSKILLS\")\n",
        "book2 = Book(2, \"Skills in Office \", \"Charan\")\n",
        "book3 = Book(3, \"1984\", \"George Orwell\")\n",
        "\n",
        "library = Library()\n",
        "library.add_book(book1)\n",
        "library.add_book(book2)\n",
        "library.add_book(book3)\n",
        "\n",
        "library.display_available_books()\n",
        "\n",
        "library.borrow_book(1)\n",
        "library.display_available_books()\n",
        "\n",
        "library.return_book(1)\n",
        "library.display_available_books()\n"
      ],
      "metadata": {
        "id": "zb2ePFBavUUZ",
        "outputId": "af5d7eb1-e308-4751-c435-30f287ad2c97",
        "colab": {
          "base_uri": "https://localhost:8080/"
        }
      },
      "id": "zb2ePFBavUUZ",
      "execution_count": 5,
      "outputs": [
        {
          "output_type": "stream",
          "name": "stdout",
          "text": [
            "Available Books:\n",
            "ID: 1, Title: 'Data Scientist', Author: PWSKILLS\n",
            "ID: 2, Title: 'Skills in Office ', Author: Charan\n",
            "ID: 3, Title: '1984', Author: George Orwell\n",
            "Book 'Data Scientist' by PWSKILLS has been borrowed.\n",
            "Available Books:\n",
            "ID: 2, Title: 'Skills in Office ', Author: Charan\n",
            "ID: 3, Title: '1984', Author: George Orwell\n",
            "Book 'Data Scientist' by PWSKILLS has been returned.\n",
            "Available Books:\n",
            "ID: 1, Title: 'Data Scientist', Author: PWSKILLS\n",
            "ID: 2, Title: 'Skills in Office ', Author: Charan\n",
            "ID: 3, Title: '1984', Author: George Orwell\n"
          ]
        }
      ]
    },
    {
      "cell_type": "markdown",
      "source": [
        "# 5) Product Inventory Create classes representing a product and an inventory system. Implement methods to add products to the inventory, update product quantity, and display available products."
      ],
      "metadata": {
        "id": "T011THzov6Xi"
      },
      "id": "T011THzov6Xi"
    },
    {
      "cell_type": "code",
      "source": [
        "class Product:\n",
        "    def __init__(self, product_id, name, quantity):\n",
        "        self.product_id = product_id\n",
        "        self.name = name\n",
        "        self.quantity = quantity\n",
        "\n",
        "class InventorySystem:\n",
        "    def __init__(self):\n",
        "        self.products = []\n",
        "\n",
        "    def add_product(self, product):\n",
        "        self.products.append(product)\n",
        "\n",
        "    def update_quantity(self, product_id, new_quantity):\n",
        "        for product in self.products:\n",
        "            if product.product_id == product_id:\n",
        "                product.quantity = new_quantity\n",
        "                print(f\"Quantity updated for product '{product.name}' (ID: {product.product_id}).\")\n",
        "                return\n",
        "        print(\"Product not found in the inventory.\")\n",
        "\n",
        "    def display_available_products(self):\n",
        "        available_products = [product for product in self.products if product.quantity > 0]\n",
        "        if available_products:\n",
        "            print(\"Available Products:\")\n",
        "            for product in available_products:\n",
        "                print(f\"ID: {product.product_id}, Name: {product.name}, Quantity: {product.quantity}\")\n",
        "        else:\n",
        "            print(\"No products available in the inventory.\")\n",
        "\n",
        "# Example usage:\n",
        "product1 = Product(1, \"Chair\", 20)\n",
        "product2 = Product(2, \"Desk\", 15)\n",
        "product3 = Product(3, \"Lamp\", 30)\n",
        "\n",
        "inventory = InventorySystem()\n",
        "inventory.add_product(product1)\n",
        "inventory.add_product(product2)\n",
        "inventory.add_product(product3)\n",
        "\n",
        "inventory.display_available_products()\n",
        "\n",
        "inventory.update_quantity(1, 25)\n",
        "inventory.display_available_products()\n",
        "\n",
        "inventory.update_quantity(4, 10)  # Non-existent product\n",
        "inventory.display_available_products()\n"
      ],
      "metadata": {
        "id": "e9koeJLIv6GZ",
        "outputId": "1a37fb87-8e9a-4794-d481-8955da58499c",
        "colab": {
          "base_uri": "https://localhost:8080/"
        }
      },
      "id": "e9koeJLIv6GZ",
      "execution_count": 6,
      "outputs": [
        {
          "output_type": "stream",
          "name": "stdout",
          "text": [
            "Available Products:\n",
            "ID: 1, Name: Chair, Quantity: 20\n",
            "ID: 2, Name: Desk, Quantity: 15\n",
            "ID: 3, Name: Lamp, Quantity: 30\n",
            "Quantity updated for product 'Chair' (ID: 1).\n",
            "Available Products:\n",
            "ID: 1, Name: Chair, Quantity: 25\n",
            "ID: 2, Name: Desk, Quantity: 15\n",
            "ID: 3, Name: Lamp, Quantity: 30\n",
            "Product not found in the inventory.\n",
            "Available Products:\n",
            "ID: 1, Name: Chair, Quantity: 25\n",
            "ID: 2, Name: Desk, Quantity: 15\n",
            "ID: 3, Name: Lamp, Quantity: 30\n"
          ]
        }
      ]
    },
    {
      "cell_type": "markdown",
      "source": [],
      "metadata": {
        "id": "dPf8eGULv3N5"
      },
      "id": "dPf8eGULv3N5"
    },
    {
      "cell_type": "markdown",
      "source": [],
      "metadata": {
        "id": "06-7M_RQv2PD"
      },
      "id": "06-7M_RQv2PD"
    },
    {
      "cell_type": "markdown",
      "source": [
        "6)Shape Calculation Create a class representing a shape with attributes like length, width, and height. Implement methods to calculate the area and perimeter of the shape."
      ],
      "metadata": {
        "id": "EzcqAkBtwib8"
      },
      "id": "EzcqAkBtwib8"
    },
    {
      "cell_type": "code",
      "source": [
        "class Shape:\n",
        "    def __init__(self):\n",
        "        pass\n",
        "\n",
        "class Rectangle(Shape):\n",
        "    def __init__(self, length, width):\n",
        "        self.length = length\n",
        "        self.width = width\n",
        "\n",
        "    def calculate_area(self):\n",
        "        return self.length * self.width\n",
        "\n",
        "    def calculate_perimeter(self):\n",
        "        return 2 * (self.length + self.width)\n",
        "\n",
        "class Triangle(Shape):\n",
        "    def __init__(self, base, height):\n",
        "        self.base = base\n",
        "        self.height = height\n",
        "\n",
        "    def calculate_area(self):\n",
        "        return 0.5 * self.base * self.height\n",
        "\n",
        "    def calculate_perimeter(self):\n",
        "        # Assuming it's an isosceles triangle\n",
        "        return 2 * self.base + self.height\n",
        "\n",
        "# Example usage:\n",
        "rectangle = Rectangle(length=5, width=10)\n",
        "print(\"Rectangle Area:\", rectangle.calculate_area())\n",
        "print(\"Rectangle Perimeter:\", rectangle.calculate_perimeter())\n",
        "\n",
        "triangle = Triangle(base=4, height=3)\n",
        "print(\"Triangle Area:\", triangle.calculate_area())\n",
        "print(\"Triangle Perimeter:\", triangle.calculate_perimeter())\n"
      ],
      "metadata": {
        "id": "A2SMac0Nwh6O",
        "outputId": "58540e95-59d2-4d2f-a59a-a8df5eb31148",
        "colab": {
          "base_uri": "https://localhost:8080/"
        }
      },
      "id": "A2SMac0Nwh6O",
      "execution_count": 8,
      "outputs": [
        {
          "output_type": "stream",
          "name": "stdout",
          "text": [
            "Rectangle Area: 50\n",
            "Rectangle Perimeter: 30\n",
            "Triangle Area: 6.0\n",
            "Triangle Perimeter: 11\n"
          ]
        }
      ]
    },
    {
      "cell_type": "code",
      "source": [],
      "metadata": {
        "id": "8ludXj6Qw-_b"
      },
      "id": "8ludXj6Qw-_b",
      "execution_count": null,
      "outputs": []
    },
    {
      "cell_type": "markdown",
      "source": [
        "7)Student Management Create a class representing a student with attributes like student ID, name, and grades. Implement methods to calculate the average grade and display student details."
      ],
      "metadata": {
        "id": "TUQ10NDwxPiI"
      },
      "id": "TUQ10NDwxPiI"
    },
    {
      "cell_type": "code",
      "source": [
        "class Student:\n",
        "    def __init__(self, student_id, name, grades=[]):\n",
        "        self.student_id = student_id\n",
        "        self.name = name\n",
        "        self.grades = grades\n",
        "\n",
        "    def calculate_average_grade(self):\n",
        "        if not self.grades:\n",
        "            return 0\n",
        "        return sum(self.grades) / len(self.grades)\n",
        "\n",
        "    def display_student_details(self):\n",
        "        print(f\"Student ID: {self.student_id}\")\n",
        "        print(f\"Name: {self.name}\")\n",
        "        print(f\"Grades: {', '.join(str(grade) for grade in self.grades)}\")\n",
        "        print(f\"Average Grade: {self.calculate_average_grade()}\")\n",
        "\n",
        "# Example usage:\n",
        "student1 = Student(101, \"Saicharan\", [84, 89, 98, 92])\n",
        "student1.display_student_details()\n",
        "\n",
        "student2 = Student(102, \"Bhavani\", [75, 80, 68, 72])\n",
        "student2.display_student_details()\n"
      ],
      "metadata": {
        "id": "l0RNdQuMxRbZ",
        "outputId": "ba3a94ec-fa4d-4a01-e1ce-469f2350747e",
        "colab": {
          "base_uri": "https://localhost:8080/"
        }
      },
      "id": "l0RNdQuMxRbZ",
      "execution_count": 10,
      "outputs": [
        {
          "output_type": "stream",
          "name": "stdout",
          "text": [
            "Student ID: 101\n",
            "Name: Saicharan\n",
            "Grades: 84, 89, 98, 92\n",
            "Average Grade: 90.75\n",
            "Student ID: 102\n",
            "Name: Bhavani\n",
            "Grades: 75, 80, 68, 72\n",
            "Average Grade: 73.75\n"
          ]
        }
      ]
    },
    {
      "cell_type": "markdown",
      "source": [
        "8) Email Management Create a class representing an email with attributes like sender, recipient, and subject. Implement methods to send an email and display email details."
      ],
      "metadata": {
        "id": "CWHg6FFOxr1n"
      },
      "id": "CWHg6FFOxr1n"
    },
    {
      "cell_type": "code",
      "source": [
        "class Email:\n",
        "    def __init__(self, sender, recipient, subject):\n",
        "        self.sender = sender\n",
        "        self.recipient = recipient\n",
        "        self.subject = subject\n",
        "        self.is_sent = False\n",
        "\n",
        "    def send_email(self):\n",
        "        # Simulating sending email (in real code, you'd implement sending logic)\n",
        "        print(f\"Email from {self.sender} to {self.recipient} with subject '{self.subject}' has been sent.\")\n",
        "        self.is_sent = True\n",
        "\n",
        "    def display_email_details(self):\n",
        "        print(\"Email Details:\")\n",
        "        print(f\"Sender: {self.sender}\")\n",
        "        print(f\"Recipient: {self.recipient}\")\n",
        "        print(f\"Subject: {self.subject}\")\n",
        "        print(f\"Status: {'Sent' if self.is_sent else 'Not Sent'}\")\n",
        "\n",
        "# Example usage:\n",
        "email1 = Email(sender=\"saicharan10521@gmail.com\", recipient=\"pwskills.com\", subject=\"Data\")\n",
        "email1.display_email_details()\n",
        "\n",
        "email1.send_email()\n",
        "email1.display_email_details()\n"
      ],
      "metadata": {
        "id": "MmMHMmt2xrPS",
        "outputId": "5fa6224f-ba6f-4083-f983-4c155d54edf9",
        "colab": {
          "base_uri": "https://localhost:8080/"
        }
      },
      "id": "MmMHMmt2xrPS",
      "execution_count": 11,
      "outputs": [
        {
          "output_type": "stream",
          "name": "stdout",
          "text": [
            "Email Details:\n",
            "Sender: saicharan10521@gmail.com\n",
            "Recipient: pwskills.com\n",
            "Subject: Data\n",
            "Status: Not Sent\n",
            "Email from saicharan10521@gmail.com to pwskills.com with subject 'Data' has been sent.\n",
            "Email Details:\n",
            "Sender: saicharan10521@gmail.com\n",
            "Recipient: pwskills.com\n",
            "Subject: Data\n",
            "Status: Sent\n"
          ]
        }
      ]
    },
    {
      "cell_type": "markdown",
      "source": [
        "9)Social Media Profile Create a class representing a social media profile with attributes like username and posts. Implement methods to add posts, display posts, and search for posts by keyword."
      ],
      "metadata": {
        "id": "vOmrRFCkyGda"
      },
      "id": "vOmrRFCkyGda"
    },
    {
      "cell_type": "code",
      "source": [
        "class SocialMediaProfile:\n",
        "    def __init__(self, username):\n",
        "        self.username = username\n",
        "        self.posts = []\n",
        "\n",
        "    def add_post(self, post_content):\n",
        "        self.posts.append(post_content)\n",
        "        print(f\"New post added by {self.username}.\")\n",
        "\n",
        "    def display_posts(self):\n",
        "        if not self.posts:\n",
        "            print(f\"No posts available for {self.username}.\")\n",
        "        else:\n",
        "            print(f\"Posts by {self.username}:\")\n",
        "            for i, post in enumerate(self.posts, start=1):\n",
        "                print(f\"Post {i}: {post}\")\n",
        "\n",
        "    def search_posts_by_keyword(self, keyword):\n",
        "        matching_posts = [post for post in self.posts if keyword.lower() in post.lower()]\n",
        "        if not matching_posts:\n",
        "            print(f\"No posts containing '{keyword}' found for {self.username}.\")\n",
        "        else:\n",
        "            print(f\"Posts containing '{keyword}' by {self.username}:\")\n",
        "            for i, post in enumerate(matching_posts, start=1):\n",
        "                print(f\"Match {i}: {post}\")\n",
        "\n",
        "# Example usage:\n",
        "profile1 = SocialMediaProfile(\"user123\")\n",
        "\n",
        "profile1.add_post(\"Just had a great day exploring!\")\n",
        "profile1.add_post(\"Trying out a new recipe for dinner tonight.\")\n",
        "profile1.add_post(\"Enjoying the sunny weather. #SummerVibes\")\n",
        "\n",
        "profile1.display_posts()\n",
        "\n",
        "profile1.search_posts_by_keyword(\"great\")\n"
      ],
      "metadata": {
        "id": "-BY7e73MxhYU",
        "outputId": "b0134f97-05c2-4289-abd5-51d7e7f02c9d",
        "colab": {
          "base_uri": "https://localhost:8080/"
        }
      },
      "id": "-BY7e73MxhYU",
      "execution_count": 12,
      "outputs": [
        {
          "output_type": "stream",
          "name": "stdout",
          "text": [
            "New post added by user123.\n",
            "New post added by user123.\n",
            "New post added by user123.\n",
            "Posts by user123:\n",
            "Post 1: Just had a great day exploring!\n",
            "Post 2: Trying out a new recipe for dinner tonight.\n",
            "Post 3: Enjoying the sunny weather. #SummerVibes\n",
            "Posts containing 'great' by user123:\n",
            "Match 1: Just had a great day exploring!\n"
          ]
        }
      ]
    },
    {
      "cell_type": "markdown",
      "source": [
        "10)ToDo List Create a class representing a ToDo list with attributes like tasks and due dates. Implement methods to add tasks, mark tasks as completed, and display pending tasks."
      ],
      "metadata": {
        "id": "XmCIe6szyUQK"
      },
      "id": "XmCIe6szyUQK"
    },
    {
      "cell_type": "code",
      "source": [
        "class ToDoList:\n",
        "    def __init__(self):\n",
        "        self.tasks = {}\n",
        "\n",
        "    def add_task(self, task, due_date):\n",
        "        self.tasks[task] = due_date\n",
        "        print(f\"Task '{task}' added with due date: {due_date}\")\n",
        "\n",
        "    def mark_task_completed(self, task):\n",
        "        if task in self.tasks:\n",
        "            del self.tasks[task]\n",
        "            print(f\"Task '{task}' marked as completed.\")\n",
        "        else:\n",
        "            print(f\"No such task '{task}' found in the list.\")\n",
        "\n",
        "    def display_pending_tasks(self):\n",
        "        if not self.tasks:\n",
        "            print(\"No pending tasks.\")\n",
        "        else:\n",
        "            print(\"Pending Tasks:\")\n",
        "            for task, due_date in self.tasks.items():\n",
        "                print(f\"Task: {task} | Due Date: {due_date}\")\n",
        "\n",
        "# Example usage:\n",
        "todo = ToDoList()\n",
        "\n",
        "todo.add_task(\"Complete project report\", \"2023-11-30\")\n",
        "todo.add_task(\"Buy groceries\", \"2023-11-20\")\n",
        "todo.add_task(\"Call client\", \"2023-11-25\")\n",
        "\n",
        "todo.display_pending_tasks()\n",
        "\n",
        "todo.mark_task_completed(\"Buy groceries\")\n",
        "\n",
        "todo.display_pending_tasks()\n",
        "\n",
        "todo.mark_task_completed(\"Send email\")\n"
      ],
      "metadata": {
        "id": "TvS3uqy8yOV7",
        "outputId": "996eb658-7e12-4c9a-a603-f2f1aa062aef",
        "colab": {
          "base_uri": "https://localhost:8080/"
        }
      },
      "id": "TvS3uqy8yOV7",
      "execution_count": 13,
      "outputs": [
        {
          "output_type": "stream",
          "name": "stdout",
          "text": [
            "Task 'Complete project report' added with due date: 2023-11-30\n",
            "Task 'Buy groceries' added with due date: 2023-11-20\n",
            "Task 'Call client' added with due date: 2023-11-25\n",
            "Pending Tasks:\n",
            "Task: Complete project report | Due Date: 2023-11-30\n",
            "Task: Buy groceries | Due Date: 2023-11-20\n",
            "Task: Call client | Due Date: 2023-11-25\n",
            "Task 'Buy groceries' marked as completed.\n",
            "Pending Tasks:\n",
            "Task: Complete project report | Due Date: 2023-11-30\n",
            "Task: Call client | Due Date: 2023-11-25\n",
            "No such task 'Send email' found in the list.\n"
          ]
        }
      ]
    },
    {
      "cell_type": "code",
      "source": [],
      "metadata": {
        "id": "AxzR6Ix-yayj"
      },
      "id": "AxzR6Ix-yayj",
      "execution_count": null,
      "outputs": []
    }
  ],
  "metadata": {
    "kernelspec": {
      "display_name": "Python 3 (ipykernel)",
      "language": "python",
      "name": "python3"
    },
    "language_info": {
      "codemirror_mode": {
        "name": "ipython",
        "version": 3
      },
      "file_extension": ".py",
      "mimetype": "text/x-python",
      "name": "python",
      "nbconvert_exporter": "python",
      "pygments_lexer": "ipython3",
      "version": "3.10.8"
    },
    "colab": {
      "provenance": [],
      "include_colab_link": true
    }
  },
  "nbformat": 4,
  "nbformat_minor": 5
}